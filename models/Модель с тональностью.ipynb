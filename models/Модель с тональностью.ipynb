{
 "cells": [
  {
   "cell_type": "markdown",
   "id": "1ee86ef0",
   "metadata": {},
   "source": [
    "### Переменные тональности"
   ]
  },
  {
   "cell_type": "markdown",
   "id": "11e325ed",
   "metadata": {},
   "source": [
    "Word Category Proportions using word lists created by Loughran and Mcdonald (2011): \n",
    "   1. total word count, \n",
    "   2. proportion of positive, negative, uncertainty, limiting, litigious, strong modal and weak modal words, \n",
    "   3. overall tone of the text.\n",
    "\n",
    "Readability ratios by Humpherys, Moffitt, Burns, Burgoon and Felix (2011) and Li (2008): \n",
    "   1. average sentence length, \n",
    "   2. complex word proportion, \n",
    "   3. Fog index equaling 0.4 * (Average Sentence Length + Complex Word Proportion)"
   ]
  },
  {
   "cell_type": "markdown",
   "id": "eaf407d7",
   "metadata": {},
   "source": [
    "|Abbrev.| Linguistic variable|\n",
    "|-------|--------------------|\n",
    "|Pos| frequency count of positive words/length of MD&A|\n",
    "|Neg| frequency count of negative words/length of MD&A|\n",
    "|Tone| (frequency count of positive words – frequency count of negative words) / (frequency count of positive words + frequency count of negative words)|\n",
    "|Uncert| frequency count of uncertain words/length of MD&A|\n",
    "|Constr| frequency count of constraining words/length of MD&A|\n",
    "|Litig| frequency count of litigious words/length of MD&A|\n",
    "|ModStrong| frequency count of modal strong words / length of MD&A|\n",
    "|ModWeak| frequency count of modal weak words/length of MD&A|"
   ]
  },
  {
   "cell_type": "code",
   "execution_count": 1,
   "id": "e55e28ae",
   "metadata": {},
   "outputs": [],
   "source": [
    "import pandas as pd\n",
    "import numpy as np\n",
    "import seaborn as sns\n",
    "\n",
    "import warnings\n",
    "warnings.filterwarnings('ignore')\n",
    "\n",
    "from sklearn.linear_model import LogisticRegression \n",
    "from sklearn.tree import DecisionTreeClassifier\n",
    "from sklearn.ensemble import RandomForestClassifier\n",
    "from sklearn.linear_model import SGDClassifier\n",
    "from sklearn.svm import SVC\n",
    "from sklearn.ensemble import GradientBoostingClassifier"
   ]
  },
  {
   "cell_type": "markdown",
   "id": "57135863",
   "metadata": {},
   "source": [
    "## Загрузка словаря"
   ]
  },
  {
   "cell_type": "code",
   "execution_count": 2,
   "id": "35810786",
   "metadata": {},
   "outputs": [
    {
     "data": {
      "text/html": [
       "<div>\n",
       "<style scoped>\n",
       "    .dataframe tbody tr th:only-of-type {\n",
       "        vertical-align: middle;\n",
       "    }\n",
       "\n",
       "    .dataframe tbody tr th {\n",
       "        vertical-align: top;\n",
       "    }\n",
       "\n",
       "    .dataframe thead th {\n",
       "        text-align: right;\n",
       "    }\n",
       "</style>\n",
       "<table border=\"1\" class=\"dataframe\">\n",
       "  <thead>\n",
       "    <tr style=\"text-align: right;\">\n",
       "      <th></th>\n",
       "      <th>Word</th>\n",
       "      <th>Seq_num</th>\n",
       "      <th>Word Count</th>\n",
       "      <th>Word Proportion</th>\n",
       "      <th>Average Proportion</th>\n",
       "      <th>Std Dev</th>\n",
       "      <th>Doc Count</th>\n",
       "      <th>Negative</th>\n",
       "      <th>Positive</th>\n",
       "      <th>Uncertainty</th>\n",
       "      <th>Litigious</th>\n",
       "      <th>Strong_Modal</th>\n",
       "      <th>Weak_Modal</th>\n",
       "      <th>Constraining</th>\n",
       "      <th>Syllables</th>\n",
       "      <th>Source</th>\n",
       "    </tr>\n",
       "  </thead>\n",
       "  <tbody>\n",
       "    <tr>\n",
       "      <th>0</th>\n",
       "      <td>AARDVARK</td>\n",
       "      <td>1</td>\n",
       "      <td>354</td>\n",
       "      <td>1.550080e-08</td>\n",
       "      <td>1.422600e-08</td>\n",
       "      <td>3.815486e-06</td>\n",
       "      <td>99</td>\n",
       "      <td>0</td>\n",
       "      <td>0</td>\n",
       "      <td>0</td>\n",
       "      <td>0</td>\n",
       "      <td>0</td>\n",
       "      <td>0</td>\n",
       "      <td>0</td>\n",
       "      <td>2</td>\n",
       "      <td>12of12inf</td>\n",
       "    </tr>\n",
       "    <tr>\n",
       "      <th>1</th>\n",
       "      <td>AARDVARKS</td>\n",
       "      <td>2</td>\n",
       "      <td>3</td>\n",
       "      <td>1.313627e-10</td>\n",
       "      <td>8.653817e-12</td>\n",
       "      <td>9.241714e-09</td>\n",
       "      <td>1</td>\n",
       "      <td>0</td>\n",
       "      <td>0</td>\n",
       "      <td>0</td>\n",
       "      <td>0</td>\n",
       "      <td>0</td>\n",
       "      <td>0</td>\n",
       "      <td>0</td>\n",
       "      <td>2</td>\n",
       "      <td>12of12inf</td>\n",
       "    </tr>\n",
       "    <tr>\n",
       "      <th>2</th>\n",
       "      <td>ABACI</td>\n",
       "      <td>3</td>\n",
       "      <td>9</td>\n",
       "      <td>3.940882e-10</td>\n",
       "      <td>1.169679e-10</td>\n",
       "      <td>5.290465e-08</td>\n",
       "      <td>7</td>\n",
       "      <td>0</td>\n",
       "      <td>0</td>\n",
       "      <td>0</td>\n",
       "      <td>0</td>\n",
       "      <td>0</td>\n",
       "      <td>0</td>\n",
       "      <td>0</td>\n",
       "      <td>3</td>\n",
       "      <td>12of12inf</td>\n",
       "    </tr>\n",
       "    <tr>\n",
       "      <th>3</th>\n",
       "      <td>ABACK</td>\n",
       "      <td>4</td>\n",
       "      <td>29</td>\n",
       "      <td>1.269840e-09</td>\n",
       "      <td>6.654735e-10</td>\n",
       "      <td>1.595100e-07</td>\n",
       "      <td>28</td>\n",
       "      <td>0</td>\n",
       "      <td>0</td>\n",
       "      <td>0</td>\n",
       "      <td>0</td>\n",
       "      <td>0</td>\n",
       "      <td>0</td>\n",
       "      <td>0</td>\n",
       "      <td>2</td>\n",
       "      <td>12of12inf</td>\n",
       "    </tr>\n",
       "    <tr>\n",
       "      <th>4</th>\n",
       "      <td>ABACUS</td>\n",
       "      <td>5</td>\n",
       "      <td>8570</td>\n",
       "      <td>3.752595e-07</td>\n",
       "      <td>3.809464e-07</td>\n",
       "      <td>3.529356e-05</td>\n",
       "      <td>1108</td>\n",
       "      <td>0</td>\n",
       "      <td>0</td>\n",
       "      <td>0</td>\n",
       "      <td>0</td>\n",
       "      <td>0</td>\n",
       "      <td>0</td>\n",
       "      <td>0</td>\n",
       "      <td>3</td>\n",
       "      <td>12of12inf</td>\n",
       "    </tr>\n",
       "    <tr>\n",
       "      <th>...</th>\n",
       "      <td>...</td>\n",
       "      <td>...</td>\n",
       "      <td>...</td>\n",
       "      <td>...</td>\n",
       "      <td>...</td>\n",
       "      <td>...</td>\n",
       "      <td>...</td>\n",
       "      <td>...</td>\n",
       "      <td>...</td>\n",
       "      <td>...</td>\n",
       "      <td>...</td>\n",
       "      <td>...</td>\n",
       "      <td>...</td>\n",
       "      <td>...</td>\n",
       "      <td>...</td>\n",
       "      <td>...</td>\n",
       "    </tr>\n",
       "    <tr>\n",
       "      <th>86526</th>\n",
       "      <td>ZYGOTE</td>\n",
       "      <td>86529</td>\n",
       "      <td>50</td>\n",
       "      <td>2.189379e-09</td>\n",
       "      <td>8.729336e-10</td>\n",
       "      <td>1.886011e-07</td>\n",
       "      <td>35</td>\n",
       "      <td>0</td>\n",
       "      <td>0</td>\n",
       "      <td>0</td>\n",
       "      <td>0</td>\n",
       "      <td>0</td>\n",
       "      <td>0</td>\n",
       "      <td>0</td>\n",
       "      <td>2</td>\n",
       "      <td>12of12inf</td>\n",
       "    </tr>\n",
       "    <tr>\n",
       "      <th>86527</th>\n",
       "      <td>ZYGOTES</td>\n",
       "      <td>86530</td>\n",
       "      <td>1</td>\n",
       "      <td>4.378757e-11</td>\n",
       "      <td>1.809516e-11</td>\n",
       "      <td>1.932446e-08</td>\n",
       "      <td>1</td>\n",
       "      <td>0</td>\n",
       "      <td>0</td>\n",
       "      <td>0</td>\n",
       "      <td>0</td>\n",
       "      <td>0</td>\n",
       "      <td>0</td>\n",
       "      <td>0</td>\n",
       "      <td>2</td>\n",
       "      <td>12of12inf</td>\n",
       "    </tr>\n",
       "    <tr>\n",
       "      <th>86528</th>\n",
       "      <td>ZYGOTIC</td>\n",
       "      <td>86531</td>\n",
       "      <td>0</td>\n",
       "      <td>0.000000e+00</td>\n",
       "      <td>0.000000e+00</td>\n",
       "      <td>0.000000e+00</td>\n",
       "      <td>0</td>\n",
       "      <td>0</td>\n",
       "      <td>0</td>\n",
       "      <td>0</td>\n",
       "      <td>0</td>\n",
       "      <td>0</td>\n",
       "      <td>0</td>\n",
       "      <td>0</td>\n",
       "      <td>3</td>\n",
       "      <td>12of12inf</td>\n",
       "    </tr>\n",
       "    <tr>\n",
       "      <th>86529</th>\n",
       "      <td>ZYMURGIES</td>\n",
       "      <td>86532</td>\n",
       "      <td>0</td>\n",
       "      <td>0.000000e+00</td>\n",
       "      <td>0.000000e+00</td>\n",
       "      <td>0.000000e+00</td>\n",
       "      <td>0</td>\n",
       "      <td>0</td>\n",
       "      <td>0</td>\n",
       "      <td>0</td>\n",
       "      <td>0</td>\n",
       "      <td>0</td>\n",
       "      <td>0</td>\n",
       "      <td>0</td>\n",
       "      <td>3</td>\n",
       "      <td>12of12inf</td>\n",
       "    </tr>\n",
       "    <tr>\n",
       "      <th>86530</th>\n",
       "      <td>ZYMURGY</td>\n",
       "      <td>86533</td>\n",
       "      <td>0</td>\n",
       "      <td>0.000000e+00</td>\n",
       "      <td>0.000000e+00</td>\n",
       "      <td>0.000000e+00</td>\n",
       "      <td>0</td>\n",
       "      <td>0</td>\n",
       "      <td>0</td>\n",
       "      <td>0</td>\n",
       "      <td>0</td>\n",
       "      <td>0</td>\n",
       "      <td>0</td>\n",
       "      <td>0</td>\n",
       "      <td>3</td>\n",
       "      <td>12of12inf</td>\n",
       "    </tr>\n",
       "  </tbody>\n",
       "</table>\n",
       "<p>86531 rows × 16 columns</p>\n",
       "</div>"
      ],
      "text/plain": [
       "            Word  Seq_num  Word Count  Word Proportion  Average Proportion  \\\n",
       "0       AARDVARK        1         354     1.550080e-08        1.422600e-08   \n",
       "1      AARDVARKS        2           3     1.313627e-10        8.653817e-12   \n",
       "2          ABACI        3           9     3.940882e-10        1.169679e-10   \n",
       "3          ABACK        4          29     1.269840e-09        6.654735e-10   \n",
       "4         ABACUS        5        8570     3.752595e-07        3.809464e-07   \n",
       "...          ...      ...         ...              ...                 ...   \n",
       "86526     ZYGOTE    86529          50     2.189379e-09        8.729336e-10   \n",
       "86527    ZYGOTES    86530           1     4.378757e-11        1.809516e-11   \n",
       "86528    ZYGOTIC    86531           0     0.000000e+00        0.000000e+00   \n",
       "86529  ZYMURGIES    86532           0     0.000000e+00        0.000000e+00   \n",
       "86530    ZYMURGY    86533           0     0.000000e+00        0.000000e+00   \n",
       "\n",
       "            Std Dev  Doc Count  Negative  Positive  Uncertainty  Litigious  \\\n",
       "0      3.815486e-06         99         0         0            0          0   \n",
       "1      9.241714e-09          1         0         0            0          0   \n",
       "2      5.290465e-08          7         0         0            0          0   \n",
       "3      1.595100e-07         28         0         0            0          0   \n",
       "4      3.529356e-05       1108         0         0            0          0   \n",
       "...             ...        ...       ...       ...          ...        ...   \n",
       "86526  1.886011e-07         35         0         0            0          0   \n",
       "86527  1.932446e-08          1         0         0            0          0   \n",
       "86528  0.000000e+00          0         0         0            0          0   \n",
       "86529  0.000000e+00          0         0         0            0          0   \n",
       "86530  0.000000e+00          0         0         0            0          0   \n",
       "\n",
       "       Strong_Modal  Weak_Modal  Constraining  Syllables     Source  \n",
       "0                 0           0             0          2  12of12inf  \n",
       "1                 0           0             0          2  12of12inf  \n",
       "2                 0           0             0          3  12of12inf  \n",
       "3                 0           0             0          2  12of12inf  \n",
       "4                 0           0             0          3  12of12inf  \n",
       "...             ...         ...           ...        ...        ...  \n",
       "86526             0           0             0          2  12of12inf  \n",
       "86527             0           0             0          2  12of12inf  \n",
       "86528             0           0             0          3  12of12inf  \n",
       "86529             0           0             0          3  12of12inf  \n",
       "86530             0           0             0          3  12of12inf  \n",
       "\n",
       "[86531 rows x 16 columns]"
      ]
     },
     "execution_count": 2,
     "metadata": {},
     "output_type": "execute_result"
    }
   ],
   "source": [
    "LM_dictionary = pd.read_excel('LM_dict.xlsx', nrows=86531)\n",
    "LM_dictionary"
   ]
  },
  {
   "cell_type": "code",
   "execution_count": 3,
   "id": "9d5b0022",
   "metadata": {
    "scrolled": false
   },
   "outputs": [
    {
     "data": {
      "text/html": [
       "<div>\n",
       "<style scoped>\n",
       "    .dataframe tbody tr th:only-of-type {\n",
       "        vertical-align: middle;\n",
       "    }\n",
       "\n",
       "    .dataframe tbody tr th {\n",
       "        vertical-align: top;\n",
       "    }\n",
       "\n",
       "    .dataframe thead th {\n",
       "        text-align: right;\n",
       "    }\n",
       "</style>\n",
       "<table border=\"1\" class=\"dataframe\">\n",
       "  <thead>\n",
       "    <tr style=\"text-align: right;\">\n",
       "      <th></th>\n",
       "      <th>Word</th>\n",
       "      <th>Positive</th>\n",
       "      <th>Negative</th>\n",
       "      <th>Uncertainty</th>\n",
       "      <th>Constraining</th>\n",
       "      <th>Litigious</th>\n",
       "      <th>Strong_Modal</th>\n",
       "      <th>Weak_Modal</th>\n",
       "    </tr>\n",
       "  </thead>\n",
       "  <tbody>\n",
       "    <tr>\n",
       "      <th>0</th>\n",
       "      <td>AARDVARK</td>\n",
       "      <td>0</td>\n",
       "      <td>0</td>\n",
       "      <td>0</td>\n",
       "      <td>0</td>\n",
       "      <td>0</td>\n",
       "      <td>0</td>\n",
       "      <td>0</td>\n",
       "    </tr>\n",
       "    <tr>\n",
       "      <th>1</th>\n",
       "      <td>AARDVARKS</td>\n",
       "      <td>0</td>\n",
       "      <td>0</td>\n",
       "      <td>0</td>\n",
       "      <td>0</td>\n",
       "      <td>0</td>\n",
       "      <td>0</td>\n",
       "      <td>0</td>\n",
       "    </tr>\n",
       "    <tr>\n",
       "      <th>2</th>\n",
       "      <td>ABACI</td>\n",
       "      <td>0</td>\n",
       "      <td>0</td>\n",
       "      <td>0</td>\n",
       "      <td>0</td>\n",
       "      <td>0</td>\n",
       "      <td>0</td>\n",
       "      <td>0</td>\n",
       "    </tr>\n",
       "    <tr>\n",
       "      <th>3</th>\n",
       "      <td>ABACK</td>\n",
       "      <td>0</td>\n",
       "      <td>0</td>\n",
       "      <td>0</td>\n",
       "      <td>0</td>\n",
       "      <td>0</td>\n",
       "      <td>0</td>\n",
       "      <td>0</td>\n",
       "    </tr>\n",
       "    <tr>\n",
       "      <th>4</th>\n",
       "      <td>ABACUS</td>\n",
       "      <td>0</td>\n",
       "      <td>0</td>\n",
       "      <td>0</td>\n",
       "      <td>0</td>\n",
       "      <td>0</td>\n",
       "      <td>0</td>\n",
       "      <td>0</td>\n",
       "    </tr>\n",
       "    <tr>\n",
       "      <th>...</th>\n",
       "      <td>...</td>\n",
       "      <td>...</td>\n",
       "      <td>...</td>\n",
       "      <td>...</td>\n",
       "      <td>...</td>\n",
       "      <td>...</td>\n",
       "      <td>...</td>\n",
       "      <td>...</td>\n",
       "    </tr>\n",
       "    <tr>\n",
       "      <th>86526</th>\n",
       "      <td>ZYGOTE</td>\n",
       "      <td>0</td>\n",
       "      <td>0</td>\n",
       "      <td>0</td>\n",
       "      <td>0</td>\n",
       "      <td>0</td>\n",
       "      <td>0</td>\n",
       "      <td>0</td>\n",
       "    </tr>\n",
       "    <tr>\n",
       "      <th>86527</th>\n",
       "      <td>ZYGOTES</td>\n",
       "      <td>0</td>\n",
       "      <td>0</td>\n",
       "      <td>0</td>\n",
       "      <td>0</td>\n",
       "      <td>0</td>\n",
       "      <td>0</td>\n",
       "      <td>0</td>\n",
       "    </tr>\n",
       "    <tr>\n",
       "      <th>86528</th>\n",
       "      <td>ZYGOTIC</td>\n",
       "      <td>0</td>\n",
       "      <td>0</td>\n",
       "      <td>0</td>\n",
       "      <td>0</td>\n",
       "      <td>0</td>\n",
       "      <td>0</td>\n",
       "      <td>0</td>\n",
       "    </tr>\n",
       "    <tr>\n",
       "      <th>86529</th>\n",
       "      <td>ZYMURGIES</td>\n",
       "      <td>0</td>\n",
       "      <td>0</td>\n",
       "      <td>0</td>\n",
       "      <td>0</td>\n",
       "      <td>0</td>\n",
       "      <td>0</td>\n",
       "      <td>0</td>\n",
       "    </tr>\n",
       "    <tr>\n",
       "      <th>86530</th>\n",
       "      <td>ZYMURGY</td>\n",
       "      <td>0</td>\n",
       "      <td>0</td>\n",
       "      <td>0</td>\n",
       "      <td>0</td>\n",
       "      <td>0</td>\n",
       "      <td>0</td>\n",
       "      <td>0</td>\n",
       "    </tr>\n",
       "  </tbody>\n",
       "</table>\n",
       "<p>86531 rows × 8 columns</p>\n",
       "</div>"
      ],
      "text/plain": [
       "            Word  Positive  Negative  Uncertainty  Constraining  Litigious  \\\n",
       "0       AARDVARK         0         0            0             0          0   \n",
       "1      AARDVARKS         0         0            0             0          0   \n",
       "2          ABACI         0         0            0             0          0   \n",
       "3          ABACK         0         0            0             0          0   \n",
       "4         ABACUS         0         0            0             0          0   \n",
       "...          ...       ...       ...          ...           ...        ...   \n",
       "86526     ZYGOTE         0         0            0             0          0   \n",
       "86527    ZYGOTES         0         0            0             0          0   \n",
       "86528    ZYGOTIC         0         0            0             0          0   \n",
       "86529  ZYMURGIES         0         0            0             0          0   \n",
       "86530    ZYMURGY         0         0            0             0          0   \n",
       "\n",
       "       Strong_Modal  Weak_Modal  \n",
       "0                 0           0  \n",
       "1                 0           0  \n",
       "2                 0           0  \n",
       "3                 0           0  \n",
       "4                 0           0  \n",
       "...             ...         ...  \n",
       "86526             0           0  \n",
       "86527             0           0  \n",
       "86528             0           0  \n",
       "86529             0           0  \n",
       "86530             0           0  \n",
       "\n",
       "[86531 rows x 8 columns]"
      ]
     },
     "execution_count": 3,
     "metadata": {},
     "output_type": "execute_result"
    }
   ],
   "source": [
    "tonality_lexicon = LM_dictionary[[\"Word\", \"Positive\", \"Negative\", \"Uncertainty\", \n",
    "                                  \"Constraining\", \"Litigious\", \"Strong_Modal\", \n",
    "                                  \"Weak_Modal\"]]\n",
    "tonality_lexicon"
   ]
  },
  {
   "cell_type": "markdown",
   "id": "e9948bc4",
   "metadata": {},
   "source": [
    "### Преобразование текста"
   ]
  },
  {
   "cell_type": "code",
   "execution_count": 4,
   "id": "e65cdf0b",
   "metadata": {},
   "outputs": [],
   "source": [
    "import nltk\n",
    "import re\n",
    "from nltk.corpus import stopwords\n",
    "\n",
    "from nltk.stem import WordNetLemmatizer\n",
    "lemmatizer = WordNetLemmatizer()"
   ]
  },
  {
   "cell_type": "code",
   "execution_count": 5,
   "id": "9b8b993c",
   "metadata": {},
   "outputs": [],
   "source": [
    "def word_preprocessing(word): \n",
    "    # приводим все к нижнему регистру\n",
    "    word = word.lower()\n",
    "    # лемматизация\n",
    "    word = lemmatizer.lemmatize(word)\n",
    "    return word"
   ]
  },
  {
   "cell_type": "code",
   "execution_count": 6,
   "id": "4eaad934",
   "metadata": {},
   "outputs": [
    {
     "data": {
      "text/plain": [
       "{'almost',\n",
       " 'apparently',\n",
       " 'appeared',\n",
       " 'appearing',\n",
       " 'appears',\n",
       " 'conceivable',\n",
       " 'could',\n",
       " 'depend',\n",
       " 'depended',\n",
       " 'depending',\n",
       " 'depends',\n",
       " 'may',\n",
       " 'maybe',\n",
       " 'might',\n",
       " 'nearly',\n",
       " 'occasionally',\n",
       " 'perhaps',\n",
       " 'possible',\n",
       " 'possibly',\n",
       " 'seldom',\n",
       " 'seldomly',\n",
       " 'sometimes',\n",
       " 'somewhat',\n",
       " 'suggest',\n",
       " 'suggests',\n",
       " 'uncertain',\n",
       " 'uncertainly'}"
      ]
     },
     "execution_count": 6,
     "metadata": {},
     "output_type": "execute_result"
    }
   ],
   "source": [
    "#создаем списки отдельно для негативных, позитивных, ограничивающих и неопределенных слов\n",
    "\n",
    "def dictionary(df, column, new_list):\n",
    "    for i in df[column]:\n",
    "        j = word_preprocessing(str(i))\n",
    "        new_list.add(str(j))\n",
    "    return new_list\n",
    "\n",
    "positive = tonality_lexicon.loc[tonality_lexicon['Positive'] != 0]\n",
    "pos_list = set()\n",
    "\n",
    "negative = tonality_lexicon.loc[tonality_lexicon['Negative'] != 0]\n",
    "neg_list = set()\n",
    "\n",
    "uncertainty = tonality_lexicon.loc[tonality_lexicon['Uncertainty'] != 0]\n",
    "unc_list = set()\n",
    "\n",
    "constraining = tonality_lexicon.loc[tonality_lexicon['Constraining'] != 0]\n",
    "cons_list = set()\n",
    "\n",
    "litigious = tonality_lexicon.loc[tonality_lexicon['Litigious'] != 0]\n",
    "lit_list = set()\n",
    "\n",
    "strong_modal = tonality_lexicon.loc[tonality_lexicon['Strong_Modal'] != 0]\n",
    "modstrong_list = set()\n",
    "\n",
    "weak_modal = tonality_lexicon.loc[tonality_lexicon['Weak_Modal'] != 0]\n",
    "modweak_list = set()\n",
    "\n",
    "dictionary(positive, 'Word', pos_list)\n",
    "dictionary(negative, 'Word', neg_list)\n",
    "dictionary(uncertainty, 'Word', unc_list)\n",
    "dictionary(constraining, 'Word', cons_list)\n",
    "dictionary(litigious, 'Word', lit_list)\n",
    "dictionary(strong_modal, 'Word', modstrong_list)\n",
    "dictionary(weak_modal, 'Word', modweak_list)"
   ]
  },
  {
   "cell_type": "code",
   "execution_count": 41,
   "id": "016f08fb",
   "metadata": {},
   "outputs": [
    {
     "data": {
      "text/plain": [
       "{'contesting',\n",
       " 'divestment',\n",
       " 'inaccurately',\n",
       " 'culpably',\n",
       " 'misconduct',\n",
       " 'seize',\n",
       " 'counterclaim',\n",
       " 'deprived',\n",
       " 'noncompliant',\n",
       " 'cautioned',\n",
       " 'prolongation',\n",
       " 'endangers',\n",
       " 'coerces',\n",
       " 'overstated',\n",
       " 'tense',\n",
       " 'excessively',\n",
       " 'downsized',\n",
       " 'criticize',\n",
       " 'harming',\n",
       " 'closure',\n",
       " 'disqualify',\n",
       " 'reassignment',\n",
       " 'untimely',\n",
       " 'deprives',\n",
       " 'protested',\n",
       " 'undercut',\n",
       " 'untenable',\n",
       " 'encumbered',\n",
       " 'easing',\n",
       " 'impounding',\n",
       " 'fraudulence',\n",
       " 'unfulfilled',\n",
       " 'disproportionately',\n",
       " 'erring',\n",
       " 'objecting',\n",
       " 'impairment',\n",
       " 'fatally',\n",
       " 'ignores',\n",
       " 'monopolize',\n",
       " 'diminished',\n",
       " 'underperforming',\n",
       " 'correction',\n",
       " 'unfortunate',\n",
       " 'inactivate',\n",
       " 'tolerate',\n",
       " 'precipitous',\n",
       " 'abdicates',\n",
       " 'circumvents',\n",
       " 'inadvertently',\n",
       " 'overcomes',\n",
       " 'retaliated',\n",
       " 'corrects',\n",
       " 'canceled',\n",
       " 'concealing',\n",
       " 'confiscated',\n",
       " 'deceptive',\n",
       " 'unknowingly',\n",
       " 'unsalable',\n",
       " 'dishonorably',\n",
       " 'exaggerates',\n",
       " 'uncovering',\n",
       " 'stressful',\n",
       " 'unresolved',\n",
       " 'disagreement',\n",
       " 'penalize',\n",
       " 'stopping',\n",
       " 'complicating',\n",
       " 'adversary',\n",
       " 'impossibility',\n",
       " 'fraudulent',\n",
       " 'abrogate',\n",
       " 'illicitly',\n",
       " 'testify',\n",
       " 'suspect',\n",
       " 'unexpected',\n",
       " 'seriousness',\n",
       " 'aversely',\n",
       " 'overburden',\n",
       " 'bankrupt',\n",
       " 'deteriorates',\n",
       " 'imperative',\n",
       " 'ridiculing',\n",
       " 'misappropriating',\n",
       " 'exacerbating',\n",
       " 'prolonged',\n",
       " 'hampering',\n",
       " 'defames',\n",
       " 'encumbering',\n",
       " 'malfunction',\n",
       " 'embarrassment',\n",
       " 'misrepresented',\n",
       " 'protracted',\n",
       " 'misstated',\n",
       " 'monopolist',\n",
       " 'inaccuracy',\n",
       " 'unpredictability',\n",
       " 'unsuitably',\n",
       " 'repossessing',\n",
       " 'noncomplying',\n",
       " 'conspires',\n",
       " 'erratically',\n",
       " 'undesired',\n",
       " 'overstatement',\n",
       " 'abrogated',\n",
       " 'delinquently',\n",
       " 'insubordination',\n",
       " 'outmoded',\n",
       " 'destroy',\n",
       " 'annulled',\n",
       " 'divests',\n",
       " 'disregarding',\n",
       " 'ineffectiveness',\n",
       " 'ridiculed',\n",
       " 'incompetency',\n",
       " 'misinformed',\n",
       " 'unsuccessfully',\n",
       " 'divestments',\n",
       " 'severed',\n",
       " 'exposed',\n",
       " 'untrusted',\n",
       " 'misjudgments',\n",
       " 'collude',\n",
       " 'error',\n",
       " 'forcing',\n",
       " 'nonproductive',\n",
       " 'disgorgement',\n",
       " 'intrusion',\n",
       " 'sacrificed',\n",
       " 'extenuating',\n",
       " 'collision',\n",
       " 'interruption',\n",
       " 'nonrenewal',\n",
       " 'deplete',\n",
       " 'slandered',\n",
       " 'disparagement',\n",
       " 'inappropriate',\n",
       " 'liquidator',\n",
       " 'cyberattacks',\n",
       " 'infringed',\n",
       " 'destabilization',\n",
       " 'unpredicted',\n",
       " 'omits',\n",
       " 'mismanaged',\n",
       " 'destructive',\n",
       " 'victim',\n",
       " 'interrupted',\n",
       " 'confuses',\n",
       " 'conspirator',\n",
       " 'slowly',\n",
       " 'obscenity',\n",
       " 'restructure',\n",
       " 'bankrupting',\n",
       " 'damaging',\n",
       " 'protestors',\n",
       " 'suspicious',\n",
       " 'deprivation',\n",
       " 'turmoil',\n",
       " 'deficiency',\n",
       " 'incompetence',\n",
       " 'unfortunately',\n",
       " 'untruth',\n",
       " 'disfavor',\n",
       " 'difficult',\n",
       " 'unexcused',\n",
       " 'falsity',\n",
       " 'unremedied',\n",
       " 'misclassification',\n",
       " 'imprudently',\n",
       " 'discouraged',\n",
       " 'harshness',\n",
       " 'standstill',\n",
       " 'adversity',\n",
       " 'offence',\n",
       " 'coercion',\n",
       " 'unsold',\n",
       " 'depressed',\n",
       " 'irregular',\n",
       " 'tolerating',\n",
       " 'falsifies',\n",
       " 'redefaulted',\n",
       " 'dispossess',\n",
       " 'anomalous',\n",
       " 'interfering',\n",
       " 'violator',\n",
       " 'contrary',\n",
       " 'irregularity',\n",
       " 'outage',\n",
       " 'understate',\n",
       " 'spam',\n",
       " 'miscalculating',\n",
       " 'redressing',\n",
       " 'refusal',\n",
       " 'faulted',\n",
       " 'anomaly',\n",
       " 'confuse',\n",
       " 'uncontrollable',\n",
       " 'retaliation',\n",
       " 'overbuilds',\n",
       " 'unsellable',\n",
       " 'stringent',\n",
       " 'misjudge',\n",
       " 'concern',\n",
       " 'discontinuance',\n",
       " 'fugitive',\n",
       " 'improperly',\n",
       " 'investigation',\n",
       " 'suspicion',\n",
       " 'delaying',\n",
       " 'encroach',\n",
       " 'unavoidable',\n",
       " 'setback',\n",
       " 'tainting',\n",
       " 'nonperformance',\n",
       " 'wasting',\n",
       " 'mismatch',\n",
       " 'onerous',\n",
       " 'suspected',\n",
       " 'underreporting',\n",
       " 'lingering',\n",
       " 'degrade',\n",
       " 'underutilization',\n",
       " 'adversely',\n",
       " 'cancel',\n",
       " 'mispricings',\n",
       " 'crime',\n",
       " 'aberration',\n",
       " 'sharply',\n",
       " 'hostility',\n",
       " 'acquiesces',\n",
       " 'obstruction',\n",
       " 'exacerbates',\n",
       " 'detract',\n",
       " 'displacing',\n",
       " 'offend',\n",
       " 'degraded',\n",
       " 'incompetent',\n",
       " 'undelivered',\n",
       " 'unable',\n",
       " 'encroached',\n",
       " 'turbulence',\n",
       " 'confiscates',\n",
       " 'restates',\n",
       " 'reluctance',\n",
       " 'resigned',\n",
       " 'harm',\n",
       " 'overburdened',\n",
       " 'renouncement',\n",
       " 'deceptively',\n",
       " 'bribe',\n",
       " 'abruptness',\n",
       " 'deteriorated',\n",
       " 'disappoint',\n",
       " 'disclosing',\n",
       " 'nonconforming',\n",
       " 'denying',\n",
       " 'lying',\n",
       " 'sued',\n",
       " 'gratuitously',\n",
       " 'diverts',\n",
       " 'misbranded',\n",
       " 'escalate',\n",
       " 'delist',\n",
       " 'overcapacities',\n",
       " 'argued',\n",
       " 'disapproved',\n",
       " 'uneconomically',\n",
       " 'criticism',\n",
       " 'confiscate',\n",
       " 'predatory',\n",
       " 'stressing',\n",
       " 'artificially',\n",
       " 'illegally',\n",
       " 'cyberbullying',\n",
       " 'abrogates',\n",
       " 'defraud',\n",
       " 'devastate',\n",
       " 'injury',\n",
       " 'breaking',\n",
       " 'incompatible',\n",
       " 'peril',\n",
       " 'unsuspecting',\n",
       " 'suffer',\n",
       " 'restructuring',\n",
       " 'overproduction',\n",
       " 'manipulating',\n",
       " 'conciliating',\n",
       " 'sacrifice',\n",
       " 'cutback',\n",
       " 'failure',\n",
       " 'lose',\n",
       " 'misunderstood',\n",
       " 'corrupted',\n",
       " 'exculpation',\n",
       " 'exculpatory',\n",
       " 'foregoes',\n",
       " 'deviated',\n",
       " 'enjoins',\n",
       " 'precluding',\n",
       " 'toleration',\n",
       " 'circumvented',\n",
       " 'writeoffs',\n",
       " 'reassigning',\n",
       " 'discontinuation',\n",
       " 'reject',\n",
       " 'unfavourable',\n",
       " 'implicating',\n",
       " 'discrepancy',\n",
       " 'disorderly',\n",
       " 'crucially',\n",
       " 'defamed',\n",
       " 'allegedly',\n",
       " 'liquidates',\n",
       " 'corrupting',\n",
       " 'alleging',\n",
       " 'cancelled',\n",
       " 'displacement',\n",
       " 'disappointing',\n",
       " 'understated',\n",
       " 'disparages',\n",
       " 'contested',\n",
       " 'closed',\n",
       " 'misappropriates',\n",
       " 'evaded',\n",
       " 'liquidate',\n",
       " 'embezzlement',\n",
       " 'corruption',\n",
       " 'misinforms',\n",
       " 'disparaging',\n",
       " 'flawed',\n",
       " 'abandon',\n",
       " 'unsound',\n",
       " 'protest',\n",
       " 'tortuous',\n",
       " 'intentional',\n",
       " 'inequitably',\n",
       " 'impasse',\n",
       " 'lapsing',\n",
       " 'displace',\n",
       " 'violative',\n",
       " 'unsatisfactory',\n",
       " 'manipulate',\n",
       " 'invalid',\n",
       " 'inequity',\n",
       " 'disputed',\n",
       " 'poor',\n",
       " 'recall',\n",
       " 'renegotiated',\n",
       " 'unaccounted',\n",
       " 'demolition',\n",
       " 'vulnerable',\n",
       " 'summoning',\n",
       " 'impairs',\n",
       " 'inimical',\n",
       " 'overload',\n",
       " 'disapproval',\n",
       " 'disgorging',\n",
       " 'unsuspected',\n",
       " 'underperform',\n",
       " 'arrearages',\n",
       " 'hurting',\n",
       " 'arrested',\n",
       " 'arrearage',\n",
       " 'knowingly',\n",
       " 'unsavory',\n",
       " 'restructured',\n",
       " 'illiquidity',\n",
       " 'misunderstand',\n",
       " 'demotes',\n",
       " 'ignore',\n",
       " 'incompletely',\n",
       " 'distress',\n",
       " 'purport',\n",
       " 'overcharge',\n",
       " 'careless',\n",
       " 'uncollectibles',\n",
       " 'disgorge',\n",
       " 'bribery',\n",
       " 'lapsed',\n",
       " 'unsaleable',\n",
       " 'unrecoverable',\n",
       " 'overrun',\n",
       " 'dampen',\n",
       " 'dishonored',\n",
       " 'imbalance',\n",
       " 'sabotage',\n",
       " 'distorts',\n",
       " 'nuisance',\n",
       " 'inefficiency',\n",
       " 'overestimate',\n",
       " 'recession',\n",
       " 'overloaded',\n",
       " 'inefficiently',\n",
       " 'cautioning',\n",
       " 'litigant',\n",
       " 'instability',\n",
       " 'renegotiate',\n",
       " 'drastically',\n",
       " 'pose',\n",
       " 'imperil',\n",
       " 'undisclosed',\n",
       " 'implicates',\n",
       " 'unreasonably',\n",
       " 'embarrassed',\n",
       " 'encumbers',\n",
       " 'dangerously',\n",
       " 'provoking',\n",
       " 'idle',\n",
       " 'destroyed',\n",
       " 'against',\n",
       " 'misplaced',\n",
       " 'shortage',\n",
       " 'uncompleted',\n",
       " 'alleges',\n",
       " 'breached',\n",
       " 'mistaken',\n",
       " 'exploitation',\n",
       " 'fictitious',\n",
       " 'inexperience',\n",
       " 'abetting',\n",
       " 'closing',\n",
       " 'deterred',\n",
       " 'harassing',\n",
       " 'questionable',\n",
       " 'discourages',\n",
       " 'dismally',\n",
       " 'misdirected',\n",
       " 'corrected',\n",
       " 'redefault',\n",
       " 'invalidated',\n",
       " 'miscalculates',\n",
       " 'disproportionate',\n",
       " 'unlicensed',\n",
       " 'nullifying',\n",
       " 'damage',\n",
       " 'overloading',\n",
       " 'uncompetitive',\n",
       " 'misstep',\n",
       " 'misrepresent',\n",
       " 'postponement',\n",
       " 'mismanage',\n",
       " 'displaces',\n",
       " 'overshadowing',\n",
       " 'deficit',\n",
       " 'lie',\n",
       " 'testifying',\n",
       " 'conflicting',\n",
       " 'misused',\n",
       " 'renegotiating',\n",
       " 'underestimation',\n",
       " 'evades',\n",
       " 'unwilling',\n",
       " 'slowing',\n",
       " 'violate',\n",
       " 'confesses',\n",
       " 'censure',\n",
       " 'escalates',\n",
       " 'slowed',\n",
       " 'unavailability',\n",
       " 'spammer',\n",
       " 'perpetrates',\n",
       " 'incidence',\n",
       " 'frivolous',\n",
       " 'repudiating',\n",
       " 'balked',\n",
       " 'complained',\n",
       " 'lag',\n",
       " 'unfit',\n",
       " 'investigating',\n",
       " 'catastrophic',\n",
       " 'reluctant',\n",
       " 'pleaded',\n",
       " 'impounds',\n",
       " 'difficultly',\n",
       " 'criticizes',\n",
       " 'distortion',\n",
       " 'expropriate',\n",
       " 'disrupting',\n",
       " 'quitting',\n",
       " 'balk',\n",
       " 'objected',\n",
       " 'involuntary',\n",
       " 'depressing',\n",
       " 'redefaults',\n",
       " 'objection',\n",
       " 'weakened',\n",
       " 'pressing',\n",
       " 'arguing',\n",
       " 'misjudging',\n",
       " 'prolongs',\n",
       " 'frustration',\n",
       " 'disparity',\n",
       " 'criminal',\n",
       " 'recalling',\n",
       " 'staggering',\n",
       " 'tolerates',\n",
       " 'discontinuing',\n",
       " 'caution',\n",
       " 'underestimate',\n",
       " 'worsened',\n",
       " 'deceit',\n",
       " 'stop',\n",
       " 'acquits',\n",
       " 'persistence',\n",
       " 'unforeseen',\n",
       " 'absence',\n",
       " 'cybercriminals',\n",
       " 'nullify',\n",
       " 'distressed',\n",
       " 'misjudged',\n",
       " 'disrupts',\n",
       " 'devalue',\n",
       " 'concealed',\n",
       " 'obstruct',\n",
       " 'insufficient',\n",
       " 'questioned',\n",
       " 'limitation',\n",
       " 'ignoring',\n",
       " 'deters',\n",
       " 'unknowing',\n",
       " 'inferior',\n",
       " 'destruction',\n",
       " 'overshadowed',\n",
       " 'disappear',\n",
       " 'misclassifications',\n",
       " 'interferes',\n",
       " 'inadequacy',\n",
       " 'overcharging',\n",
       " 'ineffectively',\n",
       " 'loses',\n",
       " 'rationalized',\n",
       " 'disastrous',\n",
       " 'sacrificial',\n",
       " 'disagreed',\n",
       " 'insolvency',\n",
       " 'overestimated',\n",
       " 'counterfeiter',\n",
       " 'exaggerate',\n",
       " 'devalues',\n",
       " 'breach',\n",
       " 'misuse',\n",
       " 'derogatory',\n",
       " 'intimidation',\n",
       " 'disturbed',\n",
       " 'incorrectness',\n",
       " 'confusing',\n",
       " 'demolish',\n",
       " 'dispossesses',\n",
       " 'erode',\n",
       " 'illicit',\n",
       " 'harass',\n",
       " 'substandard',\n",
       " 'detracting',\n",
       " 'intermittently',\n",
       " 'vitiating',\n",
       " 'discrediting',\n",
       " 'disinterestedness',\n",
       " 'forbidding',\n",
       " 'uneconomic',\n",
       " 'shuts',\n",
       " 'contradicted',\n",
       " 'disallowing',\n",
       " 'lacking',\n",
       " 'incident',\n",
       " 'complain',\n",
       " 'complicate',\n",
       " 'discredited',\n",
       " 'detrimental',\n",
       " 'incomplete',\n",
       " 'hazard',\n",
       " 'disinterested',\n",
       " 'coerce',\n",
       " 'injure',\n",
       " 'unduly',\n",
       " 'misjudgment',\n",
       " 'depress',\n",
       " 'disqualifies',\n",
       " 'inexperienced',\n",
       " 'devaluing',\n",
       " 'objectionable',\n",
       " 'unpaid',\n",
       " 'disqualifying',\n",
       " 'jeopardize',\n",
       " 'exaggeration',\n",
       " 'precluded',\n",
       " 'overturning',\n",
       " 'slander',\n",
       " 'resignation',\n",
       " 'liquidated',\n",
       " 'cancellation',\n",
       " 'worrying',\n",
       " 'embezzle',\n",
       " 'accidental',\n",
       " 'indictment',\n",
       " 'eroding',\n",
       " 'sever',\n",
       " 'demolishing',\n",
       " 'errs',\n",
       " 'stagnates',\n",
       " 'laundering',\n",
       " 'undermined',\n",
       " 'moratorium',\n",
       " 'relinquish',\n",
       " 'persists',\n",
       " 'investigated',\n",
       " 'insensitive',\n",
       " 'egregious',\n",
       " 'assaulted',\n",
       " 'confess',\n",
       " 'annoyance',\n",
       " 'curtailing',\n",
       " 'arrest',\n",
       " 'erred',\n",
       " 'disavowal',\n",
       " 'devolving',\n",
       " 'repudiation',\n",
       " 'deprecation',\n",
       " 'fired',\n",
       " 'dishonesty',\n",
       " 'disregard',\n",
       " 'redressed',\n",
       " 'endangering',\n",
       " 'alienated',\n",
       " 'restructures',\n",
       " 'demising',\n",
       " 'susceptible',\n",
       " 'uncover',\n",
       " 'inevitable',\n",
       " 'misusing',\n",
       " 'deadlock',\n",
       " 'inability',\n",
       " 'indecent',\n",
       " 'overlook',\n",
       " 'unaware',\n",
       " 'defame',\n",
       " 'abdicated',\n",
       " 'protraction',\n",
       " 'troubled',\n",
       " 'inactivity',\n",
       " 'disputing',\n",
       " 'dispute',\n",
       " 'erodes',\n",
       " 'seized',\n",
       " 'defeat',\n",
       " 'overshadow',\n",
       " 'critically',\n",
       " 'lack',\n",
       " 'divesting',\n",
       " 'invalidate',\n",
       " 'inefficient',\n",
       " 'denigrate',\n",
       " 'miss',\n",
       " 'undeliverable',\n",
       " 'unjustly',\n",
       " 'unfitness',\n",
       " 'contending',\n",
       " 'embarrasses',\n",
       " 'disagreeing',\n",
       " 'deception',\n",
       " 'embezzling',\n",
       " 'inconsistent',\n",
       " 'insurrection',\n",
       " 'unacceptably',\n",
       " 'overturned',\n",
       " 'involuntarily',\n",
       " 'unannounced',\n",
       " 'disassociates',\n",
       " 'collapsed',\n",
       " 'distracts',\n",
       " 'aggravation',\n",
       " 'demoting',\n",
       " 'unemployment',\n",
       " 'indicted',\n",
       " 'denigrating',\n",
       " 'conspiring',\n",
       " 'disclosed',\n",
       " 'annoy',\n",
       " 'unsuitable',\n",
       " 'eviction',\n",
       " 'volatility',\n",
       " 'abusing',\n",
       " 'malfunctioned',\n",
       " 'disavows',\n",
       " 'aberrational',\n",
       " 'underperforms',\n",
       " 'defamatory',\n",
       " 'dissenting',\n",
       " 'injured',\n",
       " 'worsen',\n",
       " 'precludes',\n",
       " 'exculpating',\n",
       " 'disallows',\n",
       " 'overshadows',\n",
       " 'oversupply',\n",
       " 'termination',\n",
       " 'depresses',\n",
       " 'unwarranted',\n",
       " 'colludes',\n",
       " 'accusing',\n",
       " 'disapproving',\n",
       " 'unethically',\n",
       " 'repudiates',\n",
       " 'overbuilding',\n",
       " 'sue',\n",
       " 'renegotiations',\n",
       " 'lapse',\n",
       " 'nonconformity',\n",
       " 'abandoning',\n",
       " 'chargeoffs',\n",
       " 'discontinued',\n",
       " 'manipulated',\n",
       " 'misinformation',\n",
       " 'manipulation',\n",
       " 'misrepresentation',\n",
       " 'forfeit',\n",
       " 'forestalls',\n",
       " 'noncompliance',\n",
       " 'carelessness',\n",
       " 'nonattainment',\n",
       " 'mistrial',\n",
       " 'detain',\n",
       " 'pervasive',\n",
       " 'uncollectible',\n",
       " 'conflict',\n",
       " 'counterfeit',\n",
       " 'mismanaging',\n",
       " 'drag',\n",
       " 'depriving',\n",
       " 'bankrupted',\n",
       " 'hamper',\n",
       " 'guilty',\n",
       " 'confessing',\n",
       " 'claim',\n",
       " 'condemned',\n",
       " 'illegality',\n",
       " 'harmful',\n",
       " 'unpopular',\n",
       " 'summoned',\n",
       " 'undetected',\n",
       " 'intermittent',\n",
       " 'harsher',\n",
       " 'threat',\n",
       " 'failed',\n",
       " 'defective',\n",
       " 'ban',\n",
       " 'enjoin',\n",
       " 'acquitting',\n",
       " 'loss',\n",
       " 'detention',\n",
       " 'deceiving',\n",
       " 'offending',\n",
       " 'negligent',\n",
       " 'late',\n",
       " 'harsh',\n",
       " 'imprisonment',\n",
       " 'malicious',\n",
       " 'foreclosure',\n",
       " 'exacerbation',\n",
       " 'seizes',\n",
       " 'threaten',\n",
       " 'adulterating',\n",
       " 'voiding',\n",
       " 'worry',\n",
       " 'deny',\n",
       " 'irreparable',\n",
       " 'renounced',\n",
       " 'crisis',\n",
       " 'interrupt',\n",
       " 'mothballed',\n",
       " 'colluding',\n",
       " 'doubt',\n",
       " 'disavowing',\n",
       " 'weaker',\n",
       " 'defeating',\n",
       " 'inquiry',\n",
       " 'disaffiliation',\n",
       " 'denigrates',\n",
       " 'overrunning',\n",
       " 'overburdening',\n",
       " 'repossesses',\n",
       " 'urgent',\n",
       " 'racketeering',\n",
       " 'unfairly',\n",
       " 'evict',\n",
       " 'aggravating',\n",
       " 'misstating',\n",
       " 'inhibited',\n",
       " 'collapse',\n",
       " 'disgorges',\n",
       " 'inflicted',\n",
       " 'stolen',\n",
       " 'unsuccessful',\n",
       " 'alleged',\n",
       " 'punishing',\n",
       " 'terminated',\n",
       " 'suffers',\n",
       " 'invalidity',\n",
       " 'weakness',\n",
       " 'confessed',\n",
       " 'nonfunctional',\n",
       " 'unfunded',\n",
       " 'suffering',\n",
       " 'wasted',\n",
       " 'lagging',\n",
       " 'serious',\n",
       " 'boycotting',\n",
       " 'defamation',\n",
       " 'exaggerated',\n",
       " 'malfunctioning',\n",
       " 'censured',\n",
       " 'acquit',\n",
       " 'inadvertent',\n",
       " 'forbids',\n",
       " 'confine',\n",
       " 'markdown',\n",
       " 'disagreeable',\n",
       " 'deteriorate',\n",
       " 'drastic',\n",
       " 'usurps',\n",
       " 'fault',\n",
       " 'straining',\n",
       " 'abandonment',\n",
       " 'sentenced',\n",
       " 'bribed',\n",
       " 'egregiously',\n",
       " 'disallowance',\n",
       " 'disgraceful',\n",
       " 'incapacity',\n",
       " 'unconscionable',\n",
       " 'abdication',\n",
       " 'unreasonable',\n",
       " 'bad',\n",
       " 'threatened',\n",
       " 'divorce',\n",
       " 'violently',\n",
       " 'abrogating',\n",
       " 'demised',\n",
       " 'obstacle',\n",
       " 'embezzler',\n",
       " 'underproduction',\n",
       " 'warn',\n",
       " 'felonious',\n",
       " 'exonerated',\n",
       " 'dishonoring',\n",
       " 'invalidates',\n",
       " 'vulnerability',\n",
       " 'misdemeanor',\n",
       " 'disfavored',\n",
       " 'contended',\n",
       " 'concede',\n",
       " 'misapplying',\n",
       " 'demote',\n",
       " 'provoke',\n",
       " 'discloses',\n",
       " 'undermines',\n",
       " 'unstabilized',\n",
       " 'alerted',\n",
       " 'forfeiture',\n",
       " 'downsize',\n",
       " 'bail',\n",
       " 'forbidden',\n",
       " 'misapplication',\n",
       " 'penalizing',\n",
       " 'antitrust',\n",
       " 'prejudicial',\n",
       " 'deter',\n",
       " 'disagree',\n",
       " 'redacted',\n",
       " 'disloyally',\n",
       " 'deterrent',\n",
       " 'wrongfully',\n",
       " 'encroachment',\n",
       " 'indecency',\n",
       " 'prone',\n",
       " 'mispricing',\n",
       " 'petty',\n",
       " 'misclassify',\n",
       " 'premature',\n",
       " 'disruptive',\n",
       " 'slanderous',\n",
       " 'threatens',\n",
       " 'opportunistically',\n",
       " 'questioning',\n",
       " 'precipitously',\n",
       " 'distraction',\n",
       " 'monopolizes',\n",
       " 'usurious',\n",
       " 'disallowances',\n",
       " 'diverting',\n",
       " 'stagnating',\n",
       " 'cut',\n",
       " 'disturb',\n",
       " 'inequitable',\n",
       " 'unintended',\n",
       " 'evicting',\n",
       " 'unliquidated',\n",
       " 'abolishes',\n",
       " 'counterclaimed',\n",
       " 'breaching',\n",
       " 'misapplies',\n",
       " 'abused',\n",
       " 'deviate',\n",
       " 'dissented',\n",
       " 'abdicating',\n",
       " 'disrupted',\n",
       " 'disturbance',\n",
       " 'dispossessed',\n",
       " 'conceded',\n",
       " 'dysfunctional',\n",
       " 'forbid',\n",
       " 'indicting',\n",
       " 'weaken',\n",
       " 'mislabeling',\n",
       " 'criticizing',\n",
       " 'hazardous',\n",
       " 'disappearing',\n",
       " 'challenge',\n",
       " 'irrecoverable',\n",
       " 'nonproducing',\n",
       " 'dangerous',\n",
       " 'breakage',\n",
       " 'pervasiveness',\n",
       " 'assertion',\n",
       " 'disgracefully',\n",
       " 'suspiciously',\n",
       " 'delinquency',\n",
       " 'negative',\n",
       " 'renounce',\n",
       " 'colluded',\n",
       " 'unnecessary',\n",
       " 'complicated',\n",
       " 'suspend',\n",
       " 'overvalue',\n",
       " 'incapable',\n",
       " 'burdensome',\n",
       " 'stagnant',\n",
       " 'inattention',\n",
       " 'confused',\n",
       " 'acquiescing',\n",
       " 'defaming',\n",
       " 'enjoining',\n",
       " 'evading',\n",
       " 'divulged',\n",
       " 'disclaim',\n",
       " 'embarrass',\n",
       " 'embargo',\n",
       " 'insolvent',\n",
       " 'assaulting',\n",
       " 'hindrance',\n",
       " 'offended',\n",
       " 'impediment',\n",
       " 'devalued',\n",
       " 'abrogation',\n",
       " 'slowest',\n",
       " 'force',\n",
       " 'dissent',\n",
       " 'renouncing',\n",
       " 'restate',\n",
       " 'manipulative',\n",
       " 'unmarketable',\n",
       " 'inactivated',\n",
       " 'prejudice',\n",
       " 'protesting',\n",
       " 'worthless',\n",
       " 'repossession',\n",
       " 'layoff',\n",
       " 'willfully',\n",
       " 'misprice',\n",
       " 'embarrassing',\n",
       " 'rejected',\n",
       " 'culpability',\n",
       " 'foreclose',\n",
       " 'preventing',\n",
       " 'correcting',\n",
       " 'divert',\n",
       " 'deleterious',\n",
       " 'drawback',\n",
       " 'coercive',\n",
       " 'uninsured',\n",
       " 'contempt',\n",
       " 'complicates',\n",
       " 'impeded',\n",
       " 'bridge',\n",
       " 'seriously',\n",
       " 'forfeited',\n",
       " 'misappropriated',\n",
       " 'felony',\n",
       " 'undermine',\n",
       " 'restructurings',\n",
       " 'compulsion',\n",
       " 'downgrading',\n",
       " 'reassessment',\n",
       " 'delisted',\n",
       " 'unperformed',\n",
       " 'unjustifiable',\n",
       " 'disassociation',\n",
       " 'distracted',\n",
       " 'impound',\n",
       " 'expropriation',\n",
       " 'disparaged',\n",
       " 'inadequately',\n",
       " ...}"
      ]
     },
     "execution_count": 41,
     "metadata": {},
     "output_type": "execute_result"
    }
   ],
   "source": [
    "neg_list"
   ]
  },
  {
   "cell_type": "markdown",
   "id": "e39ec890",
   "metadata": {},
   "source": [
    "## Загрузка данных"
   ]
  },
  {
   "cell_type": "code",
   "execution_count": 7,
   "id": "50f52257",
   "metadata": {},
   "outputs": [
    {
     "data": {
      "text/html": [
       "<div>\n",
       "<style scoped>\n",
       "    .dataframe tbody tr th:only-of-type {\n",
       "        vertical-align: middle;\n",
       "    }\n",
       "\n",
       "    .dataframe tbody tr th {\n",
       "        vertical-align: top;\n",
       "    }\n",
       "\n",
       "    .dataframe thead th {\n",
       "        text-align: right;\n",
       "    }\n",
       "</style>\n",
       "<table border=\"1\" class=\"dataframe\">\n",
       "  <thead>\n",
       "    <tr style=\"text-align: right;\">\n",
       "      <th></th>\n",
       "      <th>название</th>\n",
       "      <th>year</th>\n",
       "      <th>text</th>\n",
       "      <th>fraud</th>\n",
       "    </tr>\n",
       "  </thead>\n",
       "  <tbody>\n",
       "    <tr>\n",
       "      <th>204</th>\n",
       "      <td>роснефть</td>\n",
       "      <td>2016</td>\n",
       "      <td>2016 will go down in the history of Rosneft as...</td>\n",
       "      <td>1</td>\n",
       "    </tr>\n",
       "    <tr>\n",
       "      <th>61</th>\n",
       "      <td>евраз</td>\n",
       "      <td>2020</td>\n",
       "      <td>Despite the unpredictable challenges of the CO...</td>\n",
       "      <td>1</td>\n",
       "    </tr>\n",
       "    <tr>\n",
       "      <th>162</th>\n",
       "      <td>огк-2</td>\n",
       "      <td>2016</td>\n",
       "      <td>In 2016, Gazprom continued the dynamic develop...</td>\n",
       "      <td>0</td>\n",
       "    </tr>\n",
       "    <tr>\n",
       "      <th>329</th>\n",
       "      <td>суэк</td>\n",
       "      <td>2016</td>\n",
       "      <td>Leading the way in social development We’re co...</td>\n",
       "      <td>0</td>\n",
       "    </tr>\n",
       "    <tr>\n",
       "      <th>254</th>\n",
       "      <td>россети центр и приволжье</td>\n",
       "      <td>2020</td>\n",
       "      <td>The restrictive measures associated with the C...</td>\n",
       "      <td>1</td>\n",
       "    </tr>\n",
       "    <tr>\n",
       "      <th>163</th>\n",
       "      <td>окей</td>\n",
       "      <td>2020</td>\n",
       "      <td>2020 has undoubtfully brought unprecedented ch...</td>\n",
       "      <td>0</td>\n",
       "    </tr>\n",
       "    <tr>\n",
       "      <th>181</th>\n",
       "      <td>полиметалл</td>\n",
       "      <td>2017</td>\n",
       "      <td>In 2018, Polymetal celebrates its 20th anniver...</td>\n",
       "      <td>0</td>\n",
       "    </tr>\n",
       "    <tr>\n",
       "      <th>352</th>\n",
       "      <td>уралкалий</td>\n",
       "      <td>2015</td>\n",
       "      <td>Аs you know, Uralkali is one of the leaders of...</td>\n",
       "      <td>0</td>\n",
       "    </tr>\n",
       "    <tr>\n",
       "      <th>9</th>\n",
       "      <td>аэрофлот</td>\n",
       "      <td>2019</td>\n",
       "      <td>2019 was the first full year in which Aeroflot...</td>\n",
       "      <td>1</td>\n",
       "    </tr>\n",
       "    <tr>\n",
       "      <th>147</th>\n",
       "      <td>новатэк</td>\n",
       "      <td>2016</td>\n",
       "      <td>TWO THOUSAND AND SIXTEEN was another year of s...</td>\n",
       "      <td>1</td>\n",
       "    </tr>\n",
       "  </tbody>\n",
       "</table>\n",
       "</div>"
      ],
      "text/plain": [
       "                      название  year  \\\n",
       "204                   роснефть  2016   \n",
       "61                       евраз  2020   \n",
       "162                      огк-2  2016   \n",
       "329                       суэк  2016   \n",
       "254  россети центр и приволжье  2020   \n",
       "163                       окей  2020   \n",
       "181                 полиметалл  2017   \n",
       "352                  уралкалий  2015   \n",
       "9                     аэрофлот  2019   \n",
       "147                    новатэк  2016   \n",
       "\n",
       "                                                  text  fraud  \n",
       "204  2016 will go down in the history of Rosneft as...      1  \n",
       "61   Despite the unpredictable challenges of the CO...      1  \n",
       "162  In 2016, Gazprom continued the dynamic develop...      0  \n",
       "329  Leading the way in social development We’re co...      0  \n",
       "254  The restrictive measures associated with the C...      1  \n",
       "163  2020 has undoubtfully brought unprecedented ch...      0  \n",
       "181  In 2018, Polymetal celebrates its 20th anniver...      0  \n",
       "352  Аs you know, Uralkali is one of the leaders of...      0  \n",
       "9    2019 was the first full year in which Aeroflot...      1  \n",
       "147  TWO THOUSAND AND SIXTEEN was another year of s...      1  "
      ]
     },
     "execution_count": 7,
     "metadata": {},
     "output_type": "execute_result"
    }
   ],
   "source": [
    "df = pd.read_excel('База данных.xlsx', sheet_name = 'Лист3', nrows=393)\n",
    "df.sample(n=10)"
   ]
  },
  {
   "cell_type": "code",
   "execution_count": 8,
   "id": "0c7202d9",
   "metadata": {},
   "outputs": [],
   "source": [
    "from nltk.stem import WordNetLemmatizer\n",
    "lemmatizer = WordNetLemmatizer()\n",
    "\n",
    "# Загружаем стандартный список стоп-слов\n",
    "from nltk.corpus import stopwords\n",
    "stopwords = stopwords.words('english')\n",
    "stopwords.remove('not')"
   ]
  },
  {
   "cell_type": "code",
   "execution_count": 9,
   "id": "982429be",
   "metadata": {},
   "outputs": [],
   "source": [
    "# Добавляем в список стоп-слов названия стран\n",
    "import pycountry \n",
    "\n",
    "for country in pycountry.countries:\n",
    "    name = country.name.split(' ')\n",
    "    for i in name:\n",
    "        j = re.sub('[^A-Za-z]+', '', i)\n",
    "        j = j.lower()\n",
    "        if j not in stopwords:\n",
    "            stopwords.append(j)"
   ]
  },
  {
   "cell_type": "code",
   "execution_count": 10,
   "id": "830f4e23",
   "metadata": {},
   "outputs": [],
   "source": [
    "# Добавляем в список стоп-слов названия месяцев\n",
    "import calendar\n",
    "\n",
    "for month in list(calendar.month_name)[1:]:\n",
    "    stopwords.append((month.lower()))"
   ]
  },
  {
   "cell_type": "code",
   "execution_count": 11,
   "id": "c661e09a",
   "metadata": {},
   "outputs": [],
   "source": [
    "# Добавляем в список стоп-слов названия компаний и др. слова, \n",
    "# встречающиеся в текстах отчетов, которые можно отнести к стоп-словам\n",
    "\n",
    "companies = ['group', 'pjsc', 'acron', 'sistema', 'aeroflot', 'beluga', 'gazprom', 'etalon',\n",
    "             'lsr', 'cherkizovo', 'detsky', 'mir', 'evraz', 'lukoil', 'magnit', 'mvideo', \n",
    "             'eldorado', 'megafon', 'metalloinvest', 'mmk', 'mosenergo', 'mts', 'nlmk', \n",
    "             'novatek', 'nornickel', 'okey', 'polymetal', 'petropavlovsk', 'polyus', \n",
    "             'railways', 'rosatom', 'rosneft', 'rosseti', 'moesk', 'idgc', 'northern', \n",
    "             'caucasus', 'kuban', 'northwest', 'urals', 'center', 'volga', 'region', \n",
    "             'south', 'rostelecom', 'rostec', 'rusagro', 'rushydro', 'russneft', 'severstal', \n",
    "             'segezha', 'sovcomflot', 'suek', 'tatneft', 'tele', 'tmk', 'uralkali', 'phosagro', \n",
    "             'unipro', 'uniper', 'globaltrans', 'retail', 'x', 'synergy', 'oleniy', 'ruchey', \n",
    "             'kerch', 'safmar', 'russian', 'chinese', 'moscow', 'siberia', 'odintsovo', \n",
    "             'uk', 'us', 'usa', 'npp', 'due', 'two', 'russia', 'company', 'vorkutaugol',\n",
    "            'c', 'second', 'harjavalta', 'dixy', 'fi', 'fy', 'ural', 'sverdlovsk', 'kubanenergo',\n",
    "            'kv', 'rusal', 'nizhny', 'eu', 'hva', 'komi', 'one', 'kaluga', 'year', 'meat', \n",
    "             'passenger', 'oblast', 'nancial', 'pl', 'naletu', 'lenta', 'bristol', 'id', \n",
    "             'kirovsky', 'yandex', 'lavka', 'nd', 'aa', 'aaa', 'aac', 'ab', 'abc', 'ad', \n",
    "             'ag', 'ai', 'al', 'ano', 'ant', 'anton', 'antonina', 'antonios', 'antoniou', \n",
    "             'antonyan', 'ar', 'az', 'b', 'ba', 'baa', 'bb', 'bbb', 'bdd', 'bboe', 'bi', 'bf']\n",
    "\n",
    "for company in companies:\n",
    "    stopwords.append(company)"
   ]
  },
  {
   "cell_type": "code",
   "execution_count": 12,
   "id": "cc0e7632",
   "metadata": {},
   "outputs": [],
   "source": [
    "def data_preprocessing(text): \n",
    "    # очистка данных\n",
    "    text = re.sub(re.compile('<.*?>'), '', text) \n",
    "    text =  re.sub('[^A-Za-z]+', ' ', text) \n",
    "    \n",
    "    # приводим все к нижнему регистру\n",
    "    text = text.lower()\n",
    "    # приводим слова к токенам\n",
    "    tokens = nltk.word_tokenize(text)\n",
    "    # удаляем стоп-слова\n",
    "    text = [word for word in tokens if word not in stopwords]\n",
    "    # лемматизация\n",
    "    text = [lemmatizer.lemmatize(word) for word in text]\n",
    "    # соединяем слова обратно в текст\n",
    "    text = ' '.join(text)\n",
    "    \n",
    "    return text"
   ]
  },
  {
   "cell_type": "code",
   "execution_count": 13,
   "id": "5de88faa",
   "metadata": {},
   "outputs": [
    {
     "data": {
      "text/plain": [
       "0      The past year was a true ordeal for the whole ...\n",
       "1      The global mineral fertiliser market was preca...\n",
       "2      In 2018, Acron Group continued to pursue its u...\n",
       "3      The year 2017 saw positive trends on the miner...\n",
       "4      The last year was one of the decade’s most cha...\n",
       "                             ...                        \n",
       "381    It is my pleasure to report that X5 Retail Gro...\n",
       "382    As I look back at 2017 and our outlook at the ...\n",
       "383    It has been just over one year since I took ov...\n",
       "384    X5 aims to create value for all of its stakeho...\n",
       "385    Your Company performed well in 2014, deliverin...\n",
       "Name: text, Length: 386, dtype: object"
      ]
     },
     "execution_count": 13,
     "metadata": {},
     "output_type": "execute_result"
    }
   ],
   "source": [
    "df['text']"
   ]
  },
  {
   "cell_type": "code",
   "execution_count": 14,
   "id": "877aff09",
   "metadata": {},
   "outputs": [
    {
     "data": {
      "text/html": [
       "<div>\n",
       "<style scoped>\n",
       "    .dataframe tbody tr th:only-of-type {\n",
       "        vertical-align: middle;\n",
       "    }\n",
       "\n",
       "    .dataframe tbody tr th {\n",
       "        vertical-align: top;\n",
       "    }\n",
       "\n",
       "    .dataframe thead th {\n",
       "        text-align: right;\n",
       "    }\n",
       "</style>\n",
       "<table border=\"1\" class=\"dataframe\">\n",
       "  <thead>\n",
       "    <tr style=\"text-align: right;\">\n",
       "      <th></th>\n",
       "      <th>название</th>\n",
       "      <th>year</th>\n",
       "      <th>text</th>\n",
       "      <th>fraud</th>\n",
       "      <th>preprocessed_text</th>\n",
       "    </tr>\n",
       "  </thead>\n",
       "  <tbody>\n",
       "    <tr>\n",
       "      <th>0</th>\n",
       "      <td>акрон</td>\n",
       "      <td>2020</td>\n",
       "      <td>The past year was a true ordeal for the whole ...</td>\n",
       "      <td>0</td>\n",
       "      <td>past true ordeal whole world covid pandemic br...</td>\n",
       "    </tr>\n",
       "    <tr>\n",
       "      <th>1</th>\n",
       "      <td>акрон</td>\n",
       "      <td>2019</td>\n",
       "      <td>The global mineral fertiliser market was preca...</td>\n",
       "      <td>0</td>\n",
       "      <td>global mineral fertiliser market precarious pr...</td>\n",
       "    </tr>\n",
       "    <tr>\n",
       "      <th>2</th>\n",
       "      <td>акрон</td>\n",
       "      <td>2018</td>\n",
       "      <td>In 2018, Acron Group continued to pursue its u...</td>\n",
       "      <td>0</td>\n",
       "      <td>continued pursue updated development strategy ...</td>\n",
       "    </tr>\n",
       "    <tr>\n",
       "      <th>3</th>\n",
       "      <td>акрон</td>\n",
       "      <td>2017</td>\n",
       "      <td>The year 2017 saw positive trends on the miner...</td>\n",
       "      <td>0</td>\n",
       "      <td>saw positive trend mineral fertiliser market f...</td>\n",
       "    </tr>\n",
       "    <tr>\n",
       "      <th>4</th>\n",
       "      <td>акрон</td>\n",
       "      <td>2016</td>\n",
       "      <td>The last year was one of the decade’s most cha...</td>\n",
       "      <td>0</td>\n",
       "      <td>last decade challenging year global mineral fe...</td>\n",
       "    </tr>\n",
       "  </tbody>\n",
       "</table>\n",
       "</div>"
      ],
      "text/plain": [
       "  название  year                                               text  fraud  \\\n",
       "0    акрон  2020  The past year was a true ordeal for the whole ...      0   \n",
       "1    акрон  2019  The global mineral fertiliser market was preca...      0   \n",
       "2    акрон  2018  In 2018, Acron Group continued to pursue its u...      0   \n",
       "3    акрон  2017  The year 2017 saw positive trends on the miner...      0   \n",
       "4    акрон  2016  The last year was one of the decade’s most cha...      0   \n",
       "\n",
       "                                   preprocessed_text  \n",
       "0  past true ordeal whole world covid pandemic br...  \n",
       "1  global mineral fertiliser market precarious pr...  \n",
       "2  continued pursue updated development strategy ...  \n",
       "3  saw positive trend mineral fertiliser market f...  \n",
       "4  last decade challenging year global mineral fe...  "
      ]
     },
     "execution_count": 14,
     "metadata": {},
     "output_type": "execute_result"
    }
   ],
   "source": [
    "df['preprocessed_text'] = df['text'].apply(lambda text: data_preprocessing(text))\n",
    "df.head()"
   ]
  },
  {
   "cell_type": "markdown",
   "id": "181b9dee",
   "metadata": {},
   "source": [
    "### Создание переменных тональности"
   ]
  },
  {
   "cell_type": "code",
   "execution_count": 15,
   "id": "101edf70",
   "metadata": {},
   "outputs": [],
   "source": [
    "def positive_proportion(sent):\n",
    "    sent = [e.lower() for e in sent]\n",
    "    total = len(sent)\n",
    "    pos = len([e for e in sent if e in pos_list])\n",
    "    return pos / total"
   ]
  },
  {
   "cell_type": "code",
   "execution_count": 16,
   "id": "1ef56569",
   "metadata": {},
   "outputs": [],
   "source": [
    "def negative_proportion(sent):\n",
    "    sent = [e.lower() for e in sent]\n",
    "    total = len(sent)\n",
    "    neg = len([e for e in sent if e in neg_list])\n",
    "    return neg / total"
   ]
  },
  {
   "cell_type": "code",
   "execution_count": 17,
   "id": "a3c2ba9c",
   "metadata": {},
   "outputs": [],
   "source": [
    "def tone(sent):\n",
    "    pos = len([e for e in sent if e in pos_list])\n",
    "    neg = len([e for e in sent if e in neg_list])\n",
    "    return (pos - neg) / (pos + neg)"
   ]
  },
  {
   "cell_type": "code",
   "execution_count": 18,
   "id": "4c8ec865",
   "metadata": {},
   "outputs": [],
   "source": [
    "def uncertainty_proportion(sent):\n",
    "    sent = [e.lower() for e in sent]\n",
    "    total = len(sent)\n",
    "    unc = len([e for e in sent if e in unc_list])\n",
    "    return unc / total"
   ]
  },
  {
   "cell_type": "code",
   "execution_count": 19,
   "id": "0b39cb37",
   "metadata": {},
   "outputs": [],
   "source": [
    "def constraining_proportion(sent):\n",
    "    sent = [e.lower() for e in sent]\n",
    "    total = len(sent)\n",
    "    cons = len([e for e in sent if e in cons_list])\n",
    "    return cons / total"
   ]
  },
  {
   "cell_type": "code",
   "execution_count": 20,
   "id": "b0eb6387",
   "metadata": {},
   "outputs": [],
   "source": [
    "def litiguous_proportion(sent):\n",
    "    sent = [e.lower() for e in sent]\n",
    "    total = len(sent)\n",
    "    lit = len([e for e in sent if e in lit_list])\n",
    "    return lit / total"
   ]
  },
  {
   "cell_type": "code",
   "execution_count": 21,
   "id": "8e81aee9",
   "metadata": {},
   "outputs": [],
   "source": [
    "def modstrong_proportion(sent):\n",
    "    sent = [e.lower() for e in sent]\n",
    "    total = len(sent)\n",
    "    modstr = len([e for e in sent if e in modstrong_list])\n",
    "    return modstr / total"
   ]
  },
  {
   "cell_type": "code",
   "execution_count": 22,
   "id": "1d255dd7",
   "metadata": {},
   "outputs": [],
   "source": [
    "def modweak_proportion(sent):\n",
    "    sent = [e.lower() for e in sent]\n",
    "    total = len(sent)\n",
    "    modwk = len([e for e in sent if e in modweak_list])\n",
    "    return modwk / total"
   ]
  },
  {
   "cell_type": "code",
   "execution_count": 23,
   "id": "d8ac35a0",
   "metadata": {},
   "outputs": [],
   "source": [
    "def proportion(review, function):\n",
    "    proportion = []\n",
    "    sents = sent_tokenize(review)\n",
    "    for sent in sents:\n",
    "        wds = word_tokenize(sent)\n",
    "        sent_scores = function(wds)\n",
    "        proportion.append(sent_scores)\n",
    "    return sum(proportion) / len(proportion)"
   ]
  },
  {
   "cell_type": "markdown",
   "id": "7489d939",
   "metadata": {},
   "source": [
    "### Создание переменных сложности текста для понимания и прочтения"
   ]
  },
  {
   "cell_type": "code",
   "execution_count": 24,
   "id": "32517f60",
   "metadata": {},
   "outputs": [],
   "source": [
    "import re\n",
    "def text_preparation(text):\n",
    "    text = text.lower()\n",
    "    text = re.split(\"\\. |\\.\\.\\. \", text)\n",
    "    return text"
   ]
  },
  {
   "cell_type": "code",
   "execution_count": 25,
   "id": "c9357e36",
   "metadata": {
    "scrolled": true
   },
   "outputs": [
    {
     "data": {
      "text/plain": [
       "0      [the past year was a true ordeal for the whole...\n",
       "1      [the global mineral fertiliser market was prec...\n",
       "2      [in 2018, acron group continued to pursue its ...\n",
       "3      [the year 2017 saw positive trends on the mine...\n",
       "4      [the last year was one of the decade’s most ch...\n",
       "                             ...                        \n",
       "381    [it is my pleasure to report that x5 retail gr...\n",
       "382    [as i look back at 2017 and our outlook at the...\n",
       "383    [it has been just over one year since i took o...\n",
       "384    [x5 aims to create value for all of its stakeh...\n",
       "385    [your company performed well in 2014, deliveri...\n",
       "Name: text_prepared, Length: 386, dtype: object"
      ]
     },
     "execution_count": 25,
     "metadata": {},
     "output_type": "execute_result"
    }
   ],
   "source": [
    "df['text_prepared'] = df['text'].apply(lambda text: text_preparation(text))\n",
    "df['text_prepared']"
   ]
  },
  {
   "cell_type": "code",
   "execution_count": 45,
   "id": "c9fa38e8",
   "metadata": {},
   "outputs": [
    {
     "name": "stdout",
     "output_type": "stream",
     "text": [
      "The past year was a true ordeal for the whole world as the COVID-19 pandemic brought disease, lockdowns, and volatility on stock and commodity exchanges. For Acron Group, the situation was compounded by global mineral fertiliser prices approaching a long-term record-low level. However, agriculture and related industries were given top priority in Russia and in most countries, which helped our facilities continue production and operate stably after taking the necessary measures to protect our employees’ health. In 2020, the Group’s sales volume continued to increase, reaching 7.8 million tonnes, supported by existing production potential. We sold our products to 74 countries. Sales in Russia were up 43%, and sales to Brazil were up 25%. In the reporting period, Acron Group’s financial results improved each quarter, supported by sales volume, a weaker rouble, and price recovery. Eventually, due to the Group’s weak performance in H1 2020, total revenue decreased 6% to USD 1,661 million, EBITDA was down 11% to USD 489 million at 29% EBITDA margin. Net profit was USD 53 million, down from USD 383 million year-onyear. This decline in profit was mainly due to non-monetary factors, including a foreign exchange loss. The Group’s debt burden grew in 2020, so we took measures to save and cut capex. Its actual amount was USD 249 million against the scheduled USD 300 million. By the end of 2020, dollar-denominated net debt/EBITDA was 2.8. We follow a strategy of continual performance improvement and pursue our investment programme even in an environment of cost-saving measures. We commissioned three new production lines in the nitrogen sector and established a pool of highly effective projects to be implemented at our chemical production facilities in the coming years. The COVID-19 pandemic affected progress on the Group’s major investment project to construct the Talitsky mine. Because of the uncertainty caused by the COVID-19 crisis, we had to postpone the execution of the project financing deal but the project is still moving forward: in 2020 we independently completed the construction of both vertical shafts and plan to resume raising project financing in the near future. In the reporting year, the potash project saw its shareholder structure change. VTB Group and Otkritie Asset Management Ltd. (Otkritie Bank) acquired 10% and 10.1% of the project’s shares, respectively. Sberbank Investments LLC reduced its share in the project to 29.9% from 39.9% and extended the term of participation to seven years. Acron Group retained 50% plus one share in the project. We believe that the participation and support of powerful financial institutions will help us optimise the structure and cost of project financing. In early 2021, the global mineral fertiliser market saw prices recover rapidly from multi-year lows amid very strong demand in Europe and the United States. Supplies to the Russian market have been increasing by double-digit rates as well. The FOB Baltics price for urea, the most popular nitrogen fertiliser in the world, increased to USD 350 from USD 250 in Q1 2021. Prices are expected to remain strong, supported by the start of the season when India and Brazil purchase urea, limited tonnage of urea available for export from China, further growth in global natural gas prices, and record-high grain prices; however, the end of the high season in Europe and the United States and expansion of Chinese exports may cause an excess of supply on the market. With these factors in mind, Acron Group remains cautiously optimistic and focused on controlling its debt burden. In the reporting year, the Group increased its quasi-treasury stock portfolio by purchasing 4.1% of its own shares on the open market for USD 131 million. In line with the interests of our shareholders, Acron Group remains committed to a stable dividend pay-out, with a total of USD 228 million allocated as dividends in 2020, which is in line with our historical dividends and our goal of paying out at least USD 200 million per calendar year in dividends.\n",
      " \n",
      "['the past year was a true ordeal for the whole world as the covid-19 pandemic brought disease, lockdowns, and volatility on stock and commodity exchanges', 'for acron group, the situation was compounded by global mineral fertiliser prices approaching a long-term record-low level', 'however, agriculture and related industries were given top priority in russia and in most countries, which helped our facilities continue production and operate stably after taking the necessary measures to protect our employees’ health', 'in 2020, the group’s sales volume continued to increase, reaching 7.8 million tonnes, supported by existing production potential', 'we sold our products to 74 countries', 'sales in russia were up 43%, and sales to brazil were up 25%', 'in the reporting period, acron group’s financial results improved each quarter, supported by sales volume, a weaker rouble, and price recovery', 'eventually, due to the group’s weak performance in h1 2020, total revenue decreased 6% to usd 1,661 million, ebitda was down 11% to usd 489 million at 29% ebitda margin', 'net profit was usd 53 million, down from usd 383 million year-onyear', 'this decline in profit was mainly due to non-monetary factors, including a foreign exchange loss', 'the group’s debt burden grew in 2020, so we took measures to save and cut capex', 'its actual amount was usd 249 million against the scheduled usd 300 million', 'by the end of 2020, dollar-denominated net debt/ebitda was 2.8', 'we follow a strategy of continual performance improvement and pursue our investment programme even in an environment of cost-saving measures', 'we commissioned three new production lines in the nitrogen sector and established a pool of highly effective projects to be implemented at our chemical production facilities in the coming years', 'the covid-19 pandemic affected progress on the group’s major investment project to construct the talitsky mine', 'because of the uncertainty caused by the covid-19 crisis, we had to postpone the execution of the project financing deal but the project is still moving forward: in 2020 we independently completed the construction of both vertical shafts and plan to resume raising project financing in the near future', 'in the reporting year, the potash project saw its shareholder structure change', 'vtb group and otkritie asset management ltd', '(otkritie bank) acquired 10% and 10.1% of the project’s shares, respectively', 'sberbank investments llc reduced its share in the project to 29.9% from 39.9% and extended the term of participation to seven years', 'acron group retained 50% plus one share in the project', 'we believe that the participation and support of powerful financial institutions will help us optimise the structure and cost of project financing', 'in early 2021, the global mineral fertiliser market saw prices recover rapidly from multi-year lows amid very strong demand in europe and the united states', 'supplies to the russian market have been increasing by double-digit rates as well', 'the fob baltics price for urea, the most popular nitrogen fertiliser in the world, increased to usd 350 from usd 250 in q1 2021', 'prices are expected to remain strong, supported by the start of the season when india and brazil purchase urea, limited tonnage of urea available for export from china, further growth in global natural gas prices, and record-high grain prices; however, the end of the high season in europe and the united states and expansion of chinese exports may cause an excess of supply on the market', 'with these factors in mind, acron group remains cautiously optimistic and focused on controlling its debt burden', 'in the reporting year, the group increased its quasi-treasury stock portfolio by purchasing 4.1% of its own shares on the open market for usd 131 million', 'in line with the interests of our shareholders, acron group remains committed to a stable dividend pay-out, with a total of usd 228 million allocated as dividends in 2020, which is in line with our historical dividends and our goal of paying out at least usd 200 million per calendar year in dividends.']\n"
     ]
    }
   ],
   "source": [
    "print(df['text'][0])\n",
    "print(' ')\n",
    "print(df['text_prepared'][0])"
   ]
  },
  {
   "cell_type": "code",
   "execution_count": 26,
   "id": "988cf256",
   "metadata": {
    "scrolled": true
   },
   "outputs": [],
   "source": [
    "import readability\n",
    "\n",
    "df['fog_index'] = pd.Series()\n",
    "df['words_per_sentence'] = pd.Series()\n",
    "df['complex_words'] = pd.Series()\n",
    "df['wordcount'] = pd.Series()\n",
    "df['complex_words_proportion'] = pd.Series()\n",
    "\n",
    "for i in range(0, 386):\n",
    "    j = df['text_prepared'][i]\n",
    "    results = readability.getmeasures(j, lang='en')\n",
    "    df['fog_index'][i] = results['readability grades']['GunningFogIndex']\n",
    "    df['words_per_sentence'][i] = results['sentence info']['words_per_sentence']\n",
    "    df['complex_words'][i] = results['sentence info']['complex_words']\n",
    "    df['wordcount'][i] = results['sentence info']['words']\n",
    "    df['complex_words_proportion'][i] = df['complex_words'][i] / df['wordcount'][i]"
   ]
  },
  {
   "cell_type": "markdown",
   "id": "f4ee2f20",
   "metadata": {},
   "source": [
    "### Соединение переменных в новый датафрейм"
   ]
  },
  {
   "cell_type": "code",
   "execution_count": 27,
   "id": "4fb455e3",
   "metadata": {},
   "outputs": [],
   "source": [
    "texts = list(df[\"preprocessed_text\"])"
   ]
  },
  {
   "cell_type": "code",
   "execution_count": 28,
   "id": "68a3407a",
   "metadata": {},
   "outputs": [],
   "source": [
    "import nltk\n",
    "from nltk.corpus import opinion_lexicon\n",
    "from nltk.tokenize import sent_tokenize\n",
    "from nltk.tokenize import word_tokenize"
   ]
  },
  {
   "cell_type": "code",
   "execution_count": 29,
   "id": "60ace7cc",
   "metadata": {},
   "outputs": [],
   "source": [
    "positive_proportions = [proportion(e, positive_proportion) for e in texts]\n",
    "negative_proportions = [proportion(e, negative_proportion) for e in texts]\n",
    "tonality = [proportion(e, tone) for e in texts]\n",
    "uncertainty_proportions = [proportion(e, uncertainty_proportion) for e in texts]\n",
    "constraining_proportions = [proportion(e, constraining_proportion) for e in texts]\n",
    "litiguous_proportions = [proportion(e, litiguous_proportion) for e in texts]\n",
    "modstrong_proportions = [proportion(e, modstrong_proportion) for e in texts]\n",
    "modweak_proportions = [proportion(e, modweak_proportion) for e in texts]\n",
    "\n",
    "df_new = pd.DataFrame(\n",
    "    {\n",
    "        \"pos_proportion\": positive_proportions,\n",
    "        \"neg_proportion\": negative_proportions,\n",
    "        \"tonality\" : tonality,\n",
    "        \"unc_proportion\": uncertainty_proportions,\n",
    "        \"cons_proportion\": constraining_proportions,\n",
    "        \"lit_proportion\": litiguous_proportions,\n",
    "        \"modstrong_proportion\": modstrong_proportions,\n",
    "        \"modweak_proportion\": modweak_proportions\n",
    "    }\n",
    ")"
   ]
  },
  {
   "cell_type": "code",
   "execution_count": 30,
   "id": "d5897582",
   "metadata": {},
   "outputs": [],
   "source": [
    "df_new['fog_index'] = df['fog_index']\n",
    "df_new['wordcount'] = df['wordcount']\n",
    "df_new['complex_pr'] = df['complex_words_proportion']\n",
    "df_new['words_ps'] = df['words_per_sentence']\n",
    "df_new['fraud'] = df['fraud']"
   ]
  },
  {
   "cell_type": "code",
   "execution_count": 31,
   "id": "56a655b1",
   "metadata": {},
   "outputs": [
    {
     "data": {
      "text/html": [
       "<div>\n",
       "<style scoped>\n",
       "    .dataframe tbody tr th:only-of-type {\n",
       "        vertical-align: middle;\n",
       "    }\n",
       "\n",
       "    .dataframe tbody tr th {\n",
       "        vertical-align: top;\n",
       "    }\n",
       "\n",
       "    .dataframe thead th {\n",
       "        text-align: right;\n",
       "    }\n",
       "</style>\n",
       "<table border=\"1\" class=\"dataframe\">\n",
       "  <thead>\n",
       "    <tr style=\"text-align: right;\">\n",
       "      <th></th>\n",
       "      <th>pos_proportion</th>\n",
       "      <th>neg_proportion</th>\n",
       "      <th>tonality</th>\n",
       "      <th>unc_proportion</th>\n",
       "      <th>cons_proportion</th>\n",
       "      <th>lit_proportion</th>\n",
       "      <th>modstrong_proportion</th>\n",
       "      <th>modweak_proportion</th>\n",
       "      <th>fog_index</th>\n",
       "      <th>wordcount</th>\n",
       "      <th>complex_pr</th>\n",
       "      <th>words_ps</th>\n",
       "      <th>fraud</th>\n",
       "    </tr>\n",
       "  </thead>\n",
       "  <tbody>\n",
       "    <tr>\n",
       "      <th>0</th>\n",
       "      <td>0.025714</td>\n",
       "      <td>0.028571</td>\n",
       "      <td>-0.052632</td>\n",
       "      <td>0.011429</td>\n",
       "      <td>0.002857</td>\n",
       "      <td>0.000000</td>\n",
       "      <td>0.000000</td>\n",
       "      <td>0.000000</td>\n",
       "      <td>17.099205</td>\n",
       "      <td>654.0</td>\n",
       "      <td>0.209480</td>\n",
       "      <td>21.800000</td>\n",
       "      <td>0</td>\n",
       "    </tr>\n",
       "    <tr>\n",
       "      <th>1</th>\n",
       "      <td>0.026432</td>\n",
       "      <td>0.030837</td>\n",
       "      <td>-0.076923</td>\n",
       "      <td>0.000000</td>\n",
       "      <td>0.008811</td>\n",
       "      <td>0.002203</td>\n",
       "      <td>0.004405</td>\n",
       "      <td>0.000000</td>\n",
       "      <td>15.428818</td>\n",
       "      <td>866.0</td>\n",
       "      <td>0.197460</td>\n",
       "      <td>18.826087</td>\n",
       "      <td>0</td>\n",
       "    </tr>\n",
       "    <tr>\n",
       "      <th>2</th>\n",
       "      <td>0.020080</td>\n",
       "      <td>0.004016</td>\n",
       "      <td>0.666667</td>\n",
       "      <td>0.006024</td>\n",
       "      <td>0.004016</td>\n",
       "      <td>0.000000</td>\n",
       "      <td>0.002008</td>\n",
       "      <td>0.006024</td>\n",
       "      <td>15.622988</td>\n",
       "      <td>951.0</td>\n",
       "      <td>0.217666</td>\n",
       "      <td>17.290909</td>\n",
       "      <td>0</td>\n",
       "    </tr>\n",
       "    <tr>\n",
       "      <th>3</th>\n",
       "      <td>0.022535</td>\n",
       "      <td>0.012676</td>\n",
       "      <td>0.280000</td>\n",
       "      <td>0.001408</td>\n",
       "      <td>0.000000</td>\n",
       "      <td>0.000000</td>\n",
       "      <td>0.002817</td>\n",
       "      <td>0.001408</td>\n",
       "      <td>17.180772</td>\n",
       "      <td>1383.0</td>\n",
       "      <td>0.245119</td>\n",
       "      <td>18.440000</td>\n",
       "      <td>0</td>\n",
       "    </tr>\n",
       "    <tr>\n",
       "      <th>4</th>\n",
       "      <td>0.028169</td>\n",
       "      <td>0.018418</td>\n",
       "      <td>0.209302</td>\n",
       "      <td>0.004334</td>\n",
       "      <td>0.004334</td>\n",
       "      <td>0.003250</td>\n",
       "      <td>0.003250</td>\n",
       "      <td>0.003250</td>\n",
       "      <td>17.665799</td>\n",
       "      <td>1791.0</td>\n",
       "      <td>0.233389</td>\n",
       "      <td>20.825581</td>\n",
       "      <td>0</td>\n",
       "    </tr>\n",
       "    <tr>\n",
       "      <th>...</th>\n",
       "      <td>...</td>\n",
       "      <td>...</td>\n",
       "      <td>...</td>\n",
       "      <td>...</td>\n",
       "      <td>...</td>\n",
       "      <td>...</td>\n",
       "      <td>...</td>\n",
       "      <td>...</td>\n",
       "      <td>...</td>\n",
       "      <td>...</td>\n",
       "      <td>...</td>\n",
       "      <td>...</td>\n",
       "      <td>...</td>\n",
       "    </tr>\n",
       "    <tr>\n",
       "      <th>381</th>\n",
       "      <td>0.075219</td>\n",
       "      <td>0.012880</td>\n",
       "      <td>0.707602</td>\n",
       "      <td>0.005667</td>\n",
       "      <td>0.007213</td>\n",
       "      <td>0.002061</td>\n",
       "      <td>0.004637</td>\n",
       "      <td>0.001030</td>\n",
       "      <td>22.221228</td>\n",
       "      <td>3766.0</td>\n",
       "      <td>0.244291</td>\n",
       "      <td>31.123967</td>\n",
       "      <td>0</td>\n",
       "    </tr>\n",
       "    <tr>\n",
       "      <th>382</th>\n",
       "      <td>0.078625</td>\n",
       "      <td>0.010829</td>\n",
       "      <td>0.757895</td>\n",
       "      <td>0.008004</td>\n",
       "      <td>0.004708</td>\n",
       "      <td>0.002354</td>\n",
       "      <td>0.007533</td>\n",
       "      <td>0.002354</td>\n",
       "      <td>22.182280</td>\n",
       "      <td>3991.0</td>\n",
       "      <td>0.247557</td>\n",
       "      <td>30.700000</td>\n",
       "      <td>0</td>\n",
       "    </tr>\n",
       "    <tr>\n",
       "      <th>383</th>\n",
       "      <td>0.097890</td>\n",
       "      <td>0.006448</td>\n",
       "      <td>0.876404</td>\n",
       "      <td>0.004689</td>\n",
       "      <td>0.004103</td>\n",
       "      <td>0.001758</td>\n",
       "      <td>0.010551</td>\n",
       "      <td>0.001172</td>\n",
       "      <td>21.381925</td>\n",
       "      <td>3275.0</td>\n",
       "      <td>0.242137</td>\n",
       "      <td>29.241071</td>\n",
       "      <td>0</td>\n",
       "    </tr>\n",
       "    <tr>\n",
       "      <th>384</th>\n",
       "      <td>0.067633</td>\n",
       "      <td>0.018357</td>\n",
       "      <td>0.573034</td>\n",
       "      <td>0.002899</td>\n",
       "      <td>0.003382</td>\n",
       "      <td>0.000966</td>\n",
       "      <td>0.007729</td>\n",
       "      <td>0.000000</td>\n",
       "      <td>18.958457</td>\n",
       "      <td>4104.0</td>\n",
       "      <td>0.219055</td>\n",
       "      <td>25.490683</td>\n",
       "      <td>1</td>\n",
       "    </tr>\n",
       "    <tr>\n",
       "      <th>385</th>\n",
       "      <td>0.058824</td>\n",
       "      <td>0.014706</td>\n",
       "      <td>0.600000</td>\n",
       "      <td>0.011949</td>\n",
       "      <td>0.002757</td>\n",
       "      <td>0.001838</td>\n",
       "      <td>0.002757</td>\n",
       "      <td>0.001838</td>\n",
       "      <td>20.594504</td>\n",
       "      <td>2096.0</td>\n",
       "      <td>0.252863</td>\n",
       "      <td>26.200000</td>\n",
       "      <td>0</td>\n",
       "    </tr>\n",
       "  </tbody>\n",
       "</table>\n",
       "<p>386 rows × 13 columns</p>\n",
       "</div>"
      ],
      "text/plain": [
       "     pos_proportion  neg_proportion  tonality  unc_proportion  \\\n",
       "0          0.025714        0.028571 -0.052632        0.011429   \n",
       "1          0.026432        0.030837 -0.076923        0.000000   \n",
       "2          0.020080        0.004016  0.666667        0.006024   \n",
       "3          0.022535        0.012676  0.280000        0.001408   \n",
       "4          0.028169        0.018418  0.209302        0.004334   \n",
       "..              ...             ...       ...             ...   \n",
       "381        0.075219        0.012880  0.707602        0.005667   \n",
       "382        0.078625        0.010829  0.757895        0.008004   \n",
       "383        0.097890        0.006448  0.876404        0.004689   \n",
       "384        0.067633        0.018357  0.573034        0.002899   \n",
       "385        0.058824        0.014706  0.600000        0.011949   \n",
       "\n",
       "     cons_proportion  lit_proportion  modstrong_proportion  \\\n",
       "0           0.002857        0.000000              0.000000   \n",
       "1           0.008811        0.002203              0.004405   \n",
       "2           0.004016        0.000000              0.002008   \n",
       "3           0.000000        0.000000              0.002817   \n",
       "4           0.004334        0.003250              0.003250   \n",
       "..               ...             ...                   ...   \n",
       "381         0.007213        0.002061              0.004637   \n",
       "382         0.004708        0.002354              0.007533   \n",
       "383         0.004103        0.001758              0.010551   \n",
       "384         0.003382        0.000966              0.007729   \n",
       "385         0.002757        0.001838              0.002757   \n",
       "\n",
       "     modweak_proportion  fog_index  wordcount  complex_pr   words_ps  fraud  \n",
       "0              0.000000  17.099205      654.0    0.209480  21.800000      0  \n",
       "1              0.000000  15.428818      866.0    0.197460  18.826087      0  \n",
       "2              0.006024  15.622988      951.0    0.217666  17.290909      0  \n",
       "3              0.001408  17.180772     1383.0    0.245119  18.440000      0  \n",
       "4              0.003250  17.665799     1791.0    0.233389  20.825581      0  \n",
       "..                  ...        ...        ...         ...        ...    ...  \n",
       "381            0.001030  22.221228     3766.0    0.244291  31.123967      0  \n",
       "382            0.002354  22.182280     3991.0    0.247557  30.700000      0  \n",
       "383            0.001172  21.381925     3275.0    0.242137  29.241071      0  \n",
       "384            0.000000  18.958457     4104.0    0.219055  25.490683      1  \n",
       "385            0.001838  20.594504     2096.0    0.252863  26.200000      0  \n",
       "\n",
       "[386 rows x 13 columns]"
      ]
     },
     "execution_count": 31,
     "metadata": {},
     "output_type": "execute_result"
    }
   ],
   "source": [
    "df_new"
   ]
  },
  {
   "cell_type": "code",
   "execution_count": 32,
   "id": "d5cd2156",
   "metadata": {},
   "outputs": [],
   "source": [
    "X = df_new.iloc[:,:-1] #все столбцы, кроме последнего (так как там находится целевая переменная)\n",
    "y = df_new['fraud']"
   ]
  },
  {
   "cell_type": "code",
   "execution_count": 33,
   "id": "bec1b5ee",
   "metadata": {
    "scrolled": true
   },
   "outputs": [],
   "source": [
    "X\n",
    "\n",
    "X.to_csv('x_model1.csv')"
   ]
  },
  {
   "cell_type": "markdown",
   "id": "8339116b",
   "metadata": {},
   "source": [
    "## Описательная статистика"
   ]
  },
  {
   "cell_type": "code",
   "execution_count": 34,
   "id": "45988a19",
   "metadata": {
    "scrolled": true
   },
   "outputs": [
    {
     "data": {
      "image/png": "[encoded data removed]",
      "text/plain": [
       "<Figure size 640x480 with 1 Axes>"
      ]
     },
     "metadata": {},
     "output_type": "display_data"
    }
   ],
   "source": [
    "sns_plot = sns.distplot(df_new['pos_proportion'])\n",
    "fig = sns_plot.get_figure()"
   ]
  },
  {
   "cell_type": "code",
   "execution_count": 35,
   "id": "368d8cdc",
   "metadata": {},
   "outputs": [
    {
     "data": {
      "image/png": "[encoded data removed]",
      "text/plain": [
       "<Figure size 640x480 with 1 Axes>"
      ]
     },
     "metadata": {},
     "output_type": "display_data"
    }
   ],
   "source": [
    "sns_plot = sns.distplot(df_new['neg_proportion'])\n",
    "fig = sns_plot.get_figure()"
   ]
  },
  {
   "cell_type": "code",
   "execution_count": 36,
   "id": "42bf1e85",
   "metadata": {},
   "outputs": [
    {
     "data": {
      "image/png": "[encoded data removed]",
      "text/plain": [
       "<Figure size 640x480 with 1 Axes>"
      ]
     },
     "metadata": {},
     "output_type": "display_data"
    }
   ],
   "source": [
    "sns_plot = sns.distplot(df_new['tonality'])\n",
    "fig = sns_plot.get_figure()"
   ]
  },
  {
   "cell_type": "code",
   "execution_count": 37,
   "id": "c1ae05b6",
   "metadata": {},
   "outputs": [
    {
     "data": {
      "image/png": "[encoded data removed]",
      "text/plain": [
       "<Figure size 640x480 with 1 Axes>"
      ]
     },
     "metadata": {},
     "output_type": "display_data"
    }
   ],
   "source": [
    "sns_plot = sns.distplot(df_new['unc_proportion'])\n",
    "fig = sns_plot.get_figure()"
   ]
  },
  {
   "cell_type": "code",
   "execution_count": 38,
   "id": "a27483f1",
   "metadata": {},
   "outputs": [
    {
     "data": {
      "image/png": "[encoded data removed]",
      "text/plain": [
       "<Figure size 640x480 with 1 Axes>"
      ]
     },
     "metadata": {},
     "output_type": "display_data"
    }
   ],
   "source": [
    "sns_plot = sns.distplot(df_new['cons_proportion'])\n",
    "fig = sns_plot.get_figure()"
   ]
  },
  {
   "cell_type": "code",
   "execution_count": 39,
   "id": "77fe174a",
   "metadata": {},
   "outputs": [
    {
     "data": {
      "image/png": "[encoded data removed]",
      "text/plain": [
       "<Figure size 640x480 with 1 Axes>"
      ]
     },
     "metadata": {},
     "output_type": "display_data"
    }
   ],
   "source": [
    "sns_plot = sns.distplot(df_new['lit_proportion'])\n",
    "fig = sns_plot.get_figure()"
   ]
  },
  {
   "cell_type": "code",
   "execution_count": 40,
   "id": "64473798",
   "metadata": {},
   "outputs": [
    {
     "data": {
      "image/png": "[encoded data removed]",
      "text/plain": [
       "<Figure size 640x480 with 1 Axes>"
      ]
     },
     "metadata": {},
     "output_type": "display_data"
    }
   ],
   "source": [
    "sns_plot = sns.distplot(df_new['modstrong_proportion'])\n",
    "fig = sns_plot.get_figure()"
   ]
  },
  {
   "cell_type": "code",
   "execution_count": 41,
   "id": "c5e119dc",
   "metadata": {},
   "outputs": [
    {
     "data": {
      "image/png": "[encoded data removed]",
      "text/plain": [
       "<Figure size 640x480 with 1 Axes>"
      ]
     },
     "metadata": {},
     "output_type": "display_data"
    }
   ],
   "source": [
    "sns_plot = sns.distplot(df_new['modweak_proportion'])\n",
    "fig = sns_plot.get_figure()"
   ]
  },
  {
   "cell_type": "code",
   "execution_count": 42,
   "id": "6309a396",
   "metadata": {},
   "outputs": [
    {
     "data": {
      "image/png": "[encoded data removed]",
      "text/plain": [
       "<Figure size 640x480 with 1 Axes>"
      ]
     },
     "metadata": {},
     "output_type": "display_data"
    }
   ],
   "source": [
    "sns_plot = sns.distplot(df_new['fog_index'])\n",
    "fig = sns_plot.get_figure()"
   ]
  },
  {
   "cell_type": "code",
   "execution_count": 43,
   "id": "26938e80",
   "metadata": {},
   "outputs": [
    {
     "data": {
      "image/png": "[encoded data removed]",
      "text/plain": [
       "<Figure size 640x480 with 1 Axes>"
      ]
     },
     "metadata": {},
     "output_type": "display_data"
    }
   ],
   "source": [
    "sns_plot = sns.distplot(df_new['wordcount'])\n",
    "fig = sns_plot.get_figure()"
   ]
  },
  {
   "cell_type": "code",
   "execution_count": 44,
   "id": "8dde9380",
   "metadata": {},
   "outputs": [
    {
     "data": {
      "image/png": "[encoded data removed]",
      "text/plain": [
       "<Figure size 640x480 with 1 Axes>"
      ]
     },
     "metadata": {},
     "output_type": "display_data"
    }
   ],
   "source": [
    "sns_plot = sns.distplot(df_new['complex_pr'])\n",
    "fig = sns_plot.get_figure()"
   ]
  },
  {
   "cell_type": "code",
   "execution_count": 45,
   "id": "1e64eb3d",
   "metadata": {},
   "outputs": [
    {
     "data": {
      "image/png": "[encoded data removed]",
      "text/plain": [
       "<Figure size 640x480 with 1 Axes>"
      ]
     },
     "metadata": {},
     "output_type": "display_data"
    }
   ],
   "source": [
    "sns_plot = sns.distplot(df_new['words_ps'])\n",
    "fig = sns_plot.get_figure()"
   ]
  },
  {
   "cell_type": "code",
   "execution_count": 36,
   "id": "e00f1748",
   "metadata": {},
   "outputs": [],
   "source": [
    "corr = X.corr()\n",
    "corr.style.background_gradient(cmap='Blues')\n",
    "corr.style.background_gradient(cmap='Blues').to_excel('corr.xlsx')"
   ]
  },
  {
   "cell_type": "code",
   "execution_count": 47,
   "id": "c55abd5b",
   "metadata": {},
   "outputs": [],
   "source": [
    "# pos_proportion tonality\n",
    "# neg_proportion tonality\n",
    "# modweak_proportion unc_proportion\n",
    "# lit_proportion fog_index"
   ]
  },
  {
   "cell_type": "code",
   "execution_count": 37,
   "id": "ce929a9b",
   "metadata": {},
   "outputs": [
    {
     "data": {
      "text/html": [
       "<div>\n",
       "<style scoped>\n",
       "    .dataframe tbody tr th:only-of-type {\n",
       "        vertical-align: middle;\n",
       "    }\n",
       "\n",
       "    .dataframe tbody tr th {\n",
       "        vertical-align: top;\n",
       "    }\n",
       "\n",
       "    .dataframe thead th {\n",
       "        text-align: right;\n",
       "    }\n",
       "</style>\n",
       "<table border=\"1\" class=\"dataframe\">\n",
       "  <thead>\n",
       "    <tr style=\"text-align: right;\">\n",
       "      <th></th>\n",
       "      <th>pos_proportion</th>\n",
       "      <th>neg_proportion</th>\n",
       "      <th>tonality</th>\n",
       "      <th>unc_proportion</th>\n",
       "      <th>cons_proportion</th>\n",
       "      <th>lit_proportion</th>\n",
       "      <th>modstrong_proportion</th>\n",
       "      <th>modweak_proportion</th>\n",
       "      <th>fog_index</th>\n",
       "      <th>wordcount</th>\n",
       "      <th>complex_pr</th>\n",
       "      <th>words_ps</th>\n",
       "    </tr>\n",
       "  </thead>\n",
       "  <tbody>\n",
       "    <tr>\n",
       "      <th>count</th>\n",
       "      <td>386.000000</td>\n",
       "      <td>386.000000</td>\n",
       "      <td>386.000000</td>\n",
       "      <td>386.000000</td>\n",
       "      <td>386.000000</td>\n",
       "      <td>386.000000</td>\n",
       "      <td>386.000000</td>\n",
       "      <td>386.000000</td>\n",
       "      <td>386.000000</td>\n",
       "      <td>386.000000</td>\n",
       "      <td>386.000000</td>\n",
       "      <td>386.000000</td>\n",
       "    </tr>\n",
       "    <tr>\n",
       "      <th>mean</th>\n",
       "      <td>0.052540</td>\n",
       "      <td>0.016014</td>\n",
       "      <td>0.530042</td>\n",
       "      <td>0.006345</td>\n",
       "      <td>0.004983</td>\n",
       "      <td>0.003340</td>\n",
       "      <td>0.003590</td>\n",
       "      <td>0.002275</td>\n",
       "      <td>20.112495</td>\n",
       "      <td>1612.090674</td>\n",
       "      <td>0.261471</td>\n",
       "      <td>24.134155</td>\n",
       "    </tr>\n",
       "    <tr>\n",
       "      <th>std</th>\n",
       "      <td>0.016094</td>\n",
       "      <td>0.009597</td>\n",
       "      <td>0.255699</td>\n",
       "      <td>0.004057</td>\n",
       "      <td>0.003679</td>\n",
       "      <td>0.003448</td>\n",
       "      <td>0.002642</td>\n",
       "      <td>0.002133</td>\n",
       "      <td>1.955166</td>\n",
       "      <td>837.825856</td>\n",
       "      <td>0.029882</td>\n",
       "      <td>3.254983</td>\n",
       "    </tr>\n",
       "    <tr>\n",
       "      <th>min</th>\n",
       "      <td>0.015385</td>\n",
       "      <td>0.000000</td>\n",
       "      <td>-0.403509</td>\n",
       "      <td>0.000000</td>\n",
       "      <td>0.000000</td>\n",
       "      <td>0.000000</td>\n",
       "      <td>0.000000</td>\n",
       "      <td>0.000000</td>\n",
       "      <td>14.060467</td>\n",
       "      <td>286.000000</td>\n",
       "      <td>0.173913</td>\n",
       "      <td>15.316456</td>\n",
       "    </tr>\n",
       "    <tr>\n",
       "      <th>25%</th>\n",
       "      <td>0.041731</td>\n",
       "      <td>0.009466</td>\n",
       "      <td>0.400000</td>\n",
       "      <td>0.003199</td>\n",
       "      <td>0.002454</td>\n",
       "      <td>0.000914</td>\n",
       "      <td>0.001779</td>\n",
       "      <td>0.000697</td>\n",
       "      <td>18.766055</td>\n",
       "      <td>1018.000000</td>\n",
       "      <td>0.241519</td>\n",
       "      <td>22.012027</td>\n",
       "    </tr>\n",
       "    <tr>\n",
       "      <th>50%</th>\n",
       "      <td>0.050675</td>\n",
       "      <td>0.014698</td>\n",
       "      <td>0.569498</td>\n",
       "      <td>0.005672</td>\n",
       "      <td>0.004216</td>\n",
       "      <td>0.002417</td>\n",
       "      <td>0.003159</td>\n",
       "      <td>0.001813</td>\n",
       "      <td>20.089604</td>\n",
       "      <td>1398.500000</td>\n",
       "      <td>0.259441</td>\n",
       "      <td>23.799551</td>\n",
       "    </tr>\n",
       "    <tr>\n",
       "      <th>75%</th>\n",
       "      <td>0.060812</td>\n",
       "      <td>0.021093</td>\n",
       "      <td>0.709881</td>\n",
       "      <td>0.008628</td>\n",
       "      <td>0.006880</td>\n",
       "      <td>0.004899</td>\n",
       "      <td>0.004995</td>\n",
       "      <td>0.003425</td>\n",
       "      <td>21.379138</td>\n",
       "      <td>1970.750000</td>\n",
       "      <td>0.283012</td>\n",
       "      <td>26.031250</td>\n",
       "    </tr>\n",
       "    <tr>\n",
       "      <th>max</th>\n",
       "      <td>0.109091</td>\n",
       "      <td>0.053942</td>\n",
       "      <td>1.000000</td>\n",
       "      <td>0.019567</td>\n",
       "      <td>0.021886</td>\n",
       "      <td>0.017370</td>\n",
       "      <td>0.013871</td>\n",
       "      <td>0.012220</td>\n",
       "      <td>26.438648</td>\n",
       "      <td>5133.000000</td>\n",
       "      <td>0.349892</td>\n",
       "      <td>37.854545</td>\n",
       "    </tr>\n",
       "  </tbody>\n",
       "</table>\n",
       "</div>"
      ],
      "text/plain": [
       "       pos_proportion  neg_proportion    tonality  unc_proportion  \\\n",
       "count      386.000000      386.000000  386.000000      386.000000   \n",
       "mean         0.052540        0.016014    0.530042        0.006345   \n",
       "std          0.016094        0.009597    0.255699        0.004057   \n",
       "min          0.015385        0.000000   -0.403509        0.000000   \n",
       "25%          0.041731        0.009466    0.400000        0.003199   \n",
       "50%          0.050675        0.014698    0.569498        0.005672   \n",
       "75%          0.060812        0.021093    0.709881        0.008628   \n",
       "max          0.109091        0.053942    1.000000        0.019567   \n",
       "\n",
       "       cons_proportion  lit_proportion  modstrong_proportion  \\\n",
       "count       386.000000      386.000000            386.000000   \n",
       "mean          0.004983        0.003340              0.003590   \n",
       "std           0.003679        0.003448              0.002642   \n",
       "min           0.000000        0.000000              0.000000   \n",
       "25%           0.002454        0.000914              0.001779   \n",
       "50%           0.004216        0.002417              0.003159   \n",
       "75%           0.006880        0.004899              0.004995   \n",
       "max           0.021886        0.017370              0.013871   \n",
       "\n",
       "       modweak_proportion   fog_index    wordcount  complex_pr    words_ps  \n",
       "count          386.000000  386.000000   386.000000  386.000000  386.000000  \n",
       "mean             0.002275   20.112495  1612.090674    0.261471   24.134155  \n",
       "std              0.002133    1.955166   837.825856    0.029882    3.254983  \n",
       "min              0.000000   14.060467   286.000000    0.173913   15.316456  \n",
       "25%              0.000697   18.766055  1018.000000    0.241519   22.012027  \n",
       "50%              0.001813   20.089604  1398.500000    0.259441   23.799551  \n",
       "75%              0.003425   21.379138  1970.750000    0.283012   26.031250  \n",
       "max              0.012220   26.438648  5133.000000    0.349892   37.854545  "
      ]
     },
     "execution_count": 37,
     "metadata": {},
     "output_type": "execute_result"
    }
   ],
   "source": [
    "X.describe()"
   ]
  },
  {
   "cell_type": "code",
   "execution_count": 48,
   "id": "a8133fa6",
   "metadata": {},
   "outputs": [],
   "source": [
    "def slope(xs, ys):\n",
    "#    '''Вычисление наклона линии (углового коэффициента)'''\n",
    "    return np.cov(xs, ys)[1][0] / np.var(xs)\n",
    "\n",
    "def intercept(xs, ys): \n",
    "#     '''Вычисление точки пересечения (с осью Y)'''\n",
    "   return np.mean(ys) - (np.mean(xs) * slope(xs, ys))"
   ]
  },
  {
   "cell_type": "code",
   "execution_count": 49,
   "id": "dfcaa934",
   "metadata": {},
   "outputs": [],
   "source": [
    "x = pd.read_csv('x_model1.csv')\n",
    "X_ = x.drop(columns = ['Unnamed: 0', 'tonality', 'complex_pr', 'words_ps', 'neg_proportion',\n",
    "                          'modweak_proportion', 'cons_proportion', 'lit_proportion'],axis = 1)\n",
    "\n",
    "const_ = 0\n",
    "counter = 0\n",
    "for i in X_:\n",
    "    counter += 1\n",
    "    const_ += intercept(X_[i], y)\n",
    "const = const_ / counter"
   ]
  },
  {
   "cell_type": "code",
   "execution_count": 50,
   "id": "10e0c73c",
   "metadata": {},
   "outputs": [
    {
     "data": {
      "text/html": [
       "<div>\n",
       "<style scoped>\n",
       "    .dataframe tbody tr th:only-of-type {\n",
       "        vertical-align: middle;\n",
       "    }\n",
       "\n",
       "    .dataframe tbody tr th {\n",
       "        vertical-align: top;\n",
       "    }\n",
       "\n",
       "    .dataframe thead th {\n",
       "        text-align: right;\n",
       "    }\n",
       "</style>\n",
       "<table border=\"1\" class=\"dataframe\">\n",
       "  <thead>\n",
       "    <tr style=\"text-align: right;\">\n",
       "      <th></th>\n",
       "      <th>const</th>\n",
       "      <th>pos_proportion</th>\n",
       "      <th>unc_proportion</th>\n",
       "      <th>modstrong_proportion</th>\n",
       "      <th>fog_index</th>\n",
       "      <th>wordcount</th>\n",
       "    </tr>\n",
       "  </thead>\n",
       "  <tbody>\n",
       "    <tr>\n",
       "      <th>0</th>\n",
       "      <td>0.214561</td>\n",
       "      <td>0.037773</td>\n",
       "      <td>0.010903</td>\n",
       "      <td>0.001947</td>\n",
       "      <td>19.306048</td>\n",
       "      <td>4829.0</td>\n",
       "    </tr>\n",
       "    <tr>\n",
       "      <th>1</th>\n",
       "      <td>0.214561</td>\n",
       "      <td>0.092437</td>\n",
       "      <td>0.005602</td>\n",
       "      <td>0.005602</td>\n",
       "      <td>19.764655</td>\n",
       "      <td>673.0</td>\n",
       "    </tr>\n",
       "    <tr>\n",
       "      <th>2</th>\n",
       "      <td>0.214561</td>\n",
       "      <td>0.060215</td>\n",
       "      <td>0.004301</td>\n",
       "      <td>0.002151</td>\n",
       "      <td>21.064719</td>\n",
       "      <td>869.0</td>\n",
       "    </tr>\n",
       "    <tr>\n",
       "      <th>3</th>\n",
       "      <td>0.214561</td>\n",
       "      <td>0.082212</td>\n",
       "      <td>0.010463</td>\n",
       "      <td>0.005232</td>\n",
       "      <td>19.937673</td>\n",
       "      <td>2483.0</td>\n",
       "    </tr>\n",
       "    <tr>\n",
       "      <th>4</th>\n",
       "      <td>0.214561</td>\n",
       "      <td>0.029557</td>\n",
       "      <td>0.002463</td>\n",
       "      <td>0.004926</td>\n",
       "      <td>20.449675</td>\n",
       "      <td>758.0</td>\n",
       "    </tr>\n",
       "    <tr>\n",
       "      <th>...</th>\n",
       "      <td>...</td>\n",
       "      <td>...</td>\n",
       "      <td>...</td>\n",
       "      <td>...</td>\n",
       "      <td>...</td>\n",
       "      <td>...</td>\n",
       "    </tr>\n",
       "    <tr>\n",
       "      <th>388</th>\n",
       "      <td>0.214561</td>\n",
       "      <td>0.063892</td>\n",
       "      <td>0.003872</td>\n",
       "      <td>0.008712</td>\n",
       "      <td>18.682194</td>\n",
       "      <td>1928.0</td>\n",
       "    </tr>\n",
       "    <tr>\n",
       "      <th>389</th>\n",
       "      <td>0.214561</td>\n",
       "      <td>0.071960</td>\n",
       "      <td>0.007444</td>\n",
       "      <td>0.000000</td>\n",
       "      <td>21.666208</td>\n",
       "      <td>752.0</td>\n",
       "    </tr>\n",
       "    <tr>\n",
       "      <th>390</th>\n",
       "      <td>0.214561</td>\n",
       "      <td>0.069993</td>\n",
       "      <td>0.014892</td>\n",
       "      <td>0.008935</td>\n",
       "      <td>21.417283</td>\n",
       "      <td>2611.0</td>\n",
       "    </tr>\n",
       "    <tr>\n",
       "      <th>391</th>\n",
       "      <td>0.214561</td>\n",
       "      <td>0.043870</td>\n",
       "      <td>0.004499</td>\n",
       "      <td>0.005062</td>\n",
       "      <td>20.731535</td>\n",
       "      <td>3314.0</td>\n",
       "    </tr>\n",
       "    <tr>\n",
       "      <th>392</th>\n",
       "      <td>0.214561</td>\n",
       "      <td>0.046729</td>\n",
       "      <td>0.002336</td>\n",
       "      <td>0.000000</td>\n",
       "      <td>21.212784</td>\n",
       "      <td>820.0</td>\n",
       "    </tr>\n",
       "  </tbody>\n",
       "</table>\n",
       "<p>393 rows × 6 columns</p>\n",
       "</div>"
      ],
      "text/plain": [
       "        const  pos_proportion  unc_proportion  modstrong_proportion  \\\n",
       "0    0.214561        0.037773        0.010903              0.001947   \n",
       "1    0.214561        0.092437        0.005602              0.005602   \n",
       "2    0.214561        0.060215        0.004301              0.002151   \n",
       "3    0.214561        0.082212        0.010463              0.005232   \n",
       "4    0.214561        0.029557        0.002463              0.004926   \n",
       "..        ...             ...             ...                   ...   \n",
       "388  0.214561        0.063892        0.003872              0.008712   \n",
       "389  0.214561        0.071960        0.007444              0.000000   \n",
       "390  0.214561        0.069993        0.014892              0.008935   \n",
       "391  0.214561        0.043870        0.004499              0.005062   \n",
       "392  0.214561        0.046729        0.002336              0.000000   \n",
       "\n",
       "     fog_index  wordcount  \n",
       "0    19.306048     4829.0  \n",
       "1    19.764655      673.0  \n",
       "2    21.064719      869.0  \n",
       "3    19.937673     2483.0  \n",
       "4    20.449675      758.0  \n",
       "..         ...        ...  \n",
       "388  18.682194     1928.0  \n",
       "389  21.666208      752.0  \n",
       "390  21.417283     2611.0  \n",
       "391  20.731535     3314.0  \n",
       "392  21.212784      820.0  \n",
       "\n",
       "[393 rows x 6 columns]"
      ]
     },
     "execution_count": 50,
     "metadata": {},
     "output_type": "execute_result"
    }
   ],
   "source": [
    "X_.insert(0, \"const\", const)\n",
    "X_"
   ]
  },
  {
   "cell_type": "code",
   "execution_count": 51,
   "id": "b5e77273",
   "metadata": {},
   "outputs": [
    {
     "name": "stdout",
     "output_type": "stream",
     "text": [
      "Optimization terminated successfully.\n",
      "         Current function value: 0.545111\n",
      "         Iterations 6\n",
      "                           Logit Regression Results                           \n",
      "==============================================================================\n",
      "Dep. Variable:                  fraud   No. Observations:                  393\n",
      "Model:                          Logit   Df Residuals:                      387\n",
      "Method:                           MLE   Df Model:                            5\n",
      "Date:                Sun, 30 Apr 2023   Pseudo R-squ.:                 0.02452\n",
      "Time:                        21:03:06   Log-Likelihood:                -214.23\n",
      "converged:                       True   LL-Null:                       -219.61\n",
      "Covariance Type:            nonrobust   LLR p-value:                   0.05613\n",
      "========================================================================================\n",
      "                           coef    std err          z      P>|z|      [0.025      0.975]\n",
      "----------------------------------------------------------------------------------------\n",
      "const                  -10.3973      6.045     -1.720      0.085     -22.245       1.450\n",
      "pos_proportion         -13.5454      7.904     -1.714      0.087     -29.036       1.946\n",
      "unc_proportion         -46.5394     32.098     -1.450      0.147    -109.450      16.371\n",
      "modstrong_proportion    19.8419     47.608      0.417      0.677     -73.469     113.152\n",
      "fog_index                0.1163      0.061      1.901      0.057      -0.004       0.236\n",
      "wordcount               -0.0002      0.000     -1.281      0.200      -0.001       0.000\n",
      "========================================================================================\n"
     ]
    }
   ],
   "source": [
    "import statsmodels.api as sm\n",
    "import statsmodels.formula.api as smf\n",
    "import statsmodels.discrete.discrete_model as smd\n",
    "\n",
    "results = smd.Logit(y, X_).fit()\n",
    "print(results.summary())"
   ]
  },
  {
   "cell_type": "markdown",
   "id": "93f35805",
   "metadata": {},
   "source": [
    "### Масштабируем признаки"
   ]
  },
  {
   "cell_type": "code",
   "execution_count": 52,
   "id": "6b5b8cf4",
   "metadata": {},
   "outputs": [],
   "source": [
    "from sklearn.base import TransformerMixin\n",
    "from sklearn.preprocessing import StandardScaler\n",
    "\n",
    "class CustomScaler(TransformerMixin): # создаем собственный класс, опираясь на уже существующий метод\n",
    "    def __init__(self, cols, scaler=None):\n",
    "        self.cols = cols\n",
    "        self.scaler = scaler or StandardScaler()\n",
    "    def fit(self, X, y=None):\n",
    "        num_cols = X.copy()[self.cols]\n",
    "        self.scaler.fit(num_cols)\n",
    "        return self\n",
    "    def transform(self, X, y=None):\n",
    "        X_res = X.copy()\n",
    "        num_cols_tr = self.scaler.transform(X_res[self.cols])\n",
    "        for i, col in enumerate(self.cols):\n",
    "            X_res[col] = num_cols_tr[:,i]\n",
    "        return X_res"
   ]
  },
  {
   "cell_type": "code",
   "execution_count": 53,
   "id": "4bc77e02",
   "metadata": {
    "scrolled": true
   },
   "outputs": [
    {
     "data": {
      "text/html": [
       "<div>\n",
       "<style scoped>\n",
       "    .dataframe tbody tr th:only-of-type {\n",
       "        vertical-align: middle;\n",
       "    }\n",
       "\n",
       "    .dataframe tbody tr th {\n",
       "        vertical-align: top;\n",
       "    }\n",
       "\n",
       "    .dataframe thead th {\n",
       "        text-align: right;\n",
       "    }\n",
       "</style>\n",
       "<table border=\"1\" class=\"dataframe\">\n",
       "  <thead>\n",
       "    <tr style=\"text-align: right;\">\n",
       "      <th></th>\n",
       "      <th>const</th>\n",
       "      <th>pos_proportion</th>\n",
       "      <th>unc_proportion</th>\n",
       "      <th>modstrong_proportion</th>\n",
       "      <th>fog_index</th>\n",
       "      <th>wordcount</th>\n",
       "    </tr>\n",
       "  </thead>\n",
       "  <tbody>\n",
       "    <tr>\n",
       "      <th>0</th>\n",
       "      <td>-5.551115e-17</td>\n",
       "      <td>-0.927497</td>\n",
       "      <td>1.127330</td>\n",
       "      <td>-0.617635</td>\n",
       "      <td>-0.423183</td>\n",
       "      <td>3.869187</td>\n",
       "    </tr>\n",
       "    <tr>\n",
       "      <th>1</th>\n",
       "      <td>-5.551115e-17</td>\n",
       "      <td>2.451370</td>\n",
       "      <td>-0.187992</td>\n",
       "      <td>0.765208</td>\n",
       "      <td>-0.187503</td>\n",
       "      <td>-1.110133</td>\n",
       "    </tr>\n",
       "    <tr>\n",
       "      <th>2</th>\n",
       "      <td>-5.551115e-17</td>\n",
       "      <td>0.459697</td>\n",
       "      <td>-0.510835</td>\n",
       "      <td>-0.540647</td>\n",
       "      <td>0.480607</td>\n",
       "      <td>-0.875305</td>\n",
       "    </tr>\n",
       "    <tr>\n",
       "      <th>3</th>\n",
       "      <td>-5.551115e-17</td>\n",
       "      <td>1.819369</td>\n",
       "      <td>1.018146</td>\n",
       "      <td>0.625020</td>\n",
       "      <td>-0.098588</td>\n",
       "      <td>1.058435</td>\n",
       "    </tr>\n",
       "    <tr>\n",
       "      <th>4</th>\n",
       "      <td>-5.551115e-17</td>\n",
       "      <td>-1.435333</td>\n",
       "      <td>-0.966882</td>\n",
       "      <td>0.509412</td>\n",
       "      <td>0.164532</td>\n",
       "      <td>-1.008294</td>\n",
       "    </tr>\n",
       "    <tr>\n",
       "      <th>...</th>\n",
       "      <td>...</td>\n",
       "      <td>...</td>\n",
       "      <td>...</td>\n",
       "      <td>...</td>\n",
       "      <td>...</td>\n",
       "      <td>...</td>\n",
       "    </tr>\n",
       "    <tr>\n",
       "      <th>388</th>\n",
       "      <td>-5.551115e-17</td>\n",
       "      <td>0.686947</td>\n",
       "      <td>-0.617243</td>\n",
       "      <td>1.941883</td>\n",
       "      <td>-0.743784</td>\n",
       "      <td>0.393487</td>\n",
       "    </tr>\n",
       "    <tr>\n",
       "      <th>389</th>\n",
       "      <td>-5.551115e-17</td>\n",
       "      <td>1.185684</td>\n",
       "      <td>0.269024</td>\n",
       "      <td>-1.354243</td>\n",
       "      <td>0.789714</td>\n",
       "      <td>-1.015483</td>\n",
       "    </tr>\n",
       "    <tr>\n",
       "      <th>390</th>\n",
       "      <td>-5.551115e-17</td>\n",
       "      <td>1.064055</td>\n",
       "      <td>2.116977</td>\n",
       "      <td>2.026147</td>\n",
       "      <td>0.661791</td>\n",
       "      <td>1.211792</td>\n",
       "    </tr>\n",
       "    <tr>\n",
       "      <th>391</th>\n",
       "      <td>-5.551115e-17</td>\n",
       "      <td>-0.550639</td>\n",
       "      <td>-0.461618</td>\n",
       "      <td>0.560773</td>\n",
       "      <td>0.309382</td>\n",
       "      <td>2.054059</td>\n",
       "    </tr>\n",
       "    <tr>\n",
       "      <th>392</th>\n",
       "      <td>-5.551115e-17</td>\n",
       "      <td>-0.373893</td>\n",
       "      <td>-0.998295</td>\n",
       "      <td>-1.354243</td>\n",
       "      <td>0.556698</td>\n",
       "      <td>-0.934012</td>\n",
       "    </tr>\n",
       "  </tbody>\n",
       "</table>\n",
       "<p>393 rows × 6 columns</p>\n",
       "</div>"
      ],
      "text/plain": [
       "            const  pos_proportion  unc_proportion  modstrong_proportion  \\\n",
       "0   -5.551115e-17       -0.927497        1.127330             -0.617635   \n",
       "1   -5.551115e-17        2.451370       -0.187992              0.765208   \n",
       "2   -5.551115e-17        0.459697       -0.510835             -0.540647   \n",
       "3   -5.551115e-17        1.819369        1.018146              0.625020   \n",
       "4   -5.551115e-17       -1.435333       -0.966882              0.509412   \n",
       "..            ...             ...             ...                   ...   \n",
       "388 -5.551115e-17        0.686947       -0.617243              1.941883   \n",
       "389 -5.551115e-17        1.185684        0.269024             -1.354243   \n",
       "390 -5.551115e-17        1.064055        2.116977              2.026147   \n",
       "391 -5.551115e-17       -0.550639       -0.461618              0.560773   \n",
       "392 -5.551115e-17       -0.373893       -0.998295             -1.354243   \n",
       "\n",
       "     fog_index  wordcount  \n",
       "0    -0.423183   3.869187  \n",
       "1    -0.187503  -1.110133  \n",
       "2     0.480607  -0.875305  \n",
       "3    -0.098588   1.058435  \n",
       "4     0.164532  -1.008294  \n",
       "..         ...        ...  \n",
       "388  -0.743784   0.393487  \n",
       "389   0.789714  -1.015483  \n",
       "390   0.661791   1.211792  \n",
       "391   0.309382   2.054059  \n",
       "392   0.556698  -0.934012  \n",
       "\n",
       "[393 rows x 6 columns]"
      ]
     },
     "execution_count": 53,
     "metadata": {},
     "output_type": "execute_result"
    }
   ],
   "source": [
    "sc = CustomScaler(X_.columns.to_list())\n",
    "X_new = sc.fit_transform(X_)\n",
    "\n",
    "X_new"
   ]
  },
  {
   "cell_type": "code",
   "execution_count": 54,
   "id": "4d7872ae",
   "metadata": {},
   "outputs": [],
   "source": [
    "X_new.to_csv('model1_X.csv')"
   ]
  },
  {
   "cell_type": "markdown",
   "id": "5fc24163",
   "metadata": {},
   "source": [
    "### Модели"
   ]
  },
  {
   "cell_type": "code",
   "execution_count": 55,
   "id": "c6805592",
   "metadata": {},
   "outputs": [],
   "source": [
    "from sklearn.model_selection import train_test_split\n",
    "from sklearn.linear_model import LogisticRegression\n",
    "from sklearn.model_selection import GridSearchCV\n",
    "X_train, X_test, y_train, y_test = train_test_split(X_new, y, test_size = 0.25, stratify = y)"
   ]
  },
  {
   "cell_type": "markdown",
   "id": "718c9325",
   "metadata": {},
   "source": [
    "#### Логистическая регрессия"
   ]
  },
  {
   "cell_type": "code",
   "execution_count": 56,
   "id": "f360ab84",
   "metadata": {},
   "outputs": [
    {
     "name": "stdout",
     "output_type": "stream",
     "text": [
      "best score: 0.0\n",
      "best params: {'C': 1, 'penalty': 'l1', 'solver': 'saga'}\n"
     ]
    }
   ],
   "source": [
    "lr = LogisticRegression(random_state=42) \n",
    "\n",
    "params = {'solver': ['sag', 'saga', 'lbfgs'],\n",
    "         'C': np.arange(1,100,1),\n",
    "         'penalty': ['l1','l2','elasticnet']} \n",
    "grid_lr = GridSearchCV(lr, params, cv = 3, scoring = 'recall') \n",
    "\n",
    "grid_lr.fit(X_new, y)\n",
    "\n",
    "print('best score:', grid_lr.best_score_)\n",
    "print('best params:', grid_lr.best_params_)"
   ]
  },
  {
   "cell_type": "code",
   "execution_count": 57,
   "id": "519375a9",
   "metadata": {},
   "outputs": [],
   "source": [
    "lr = LogisticRegression(C = 1, solver = 'sag', penalty = 'l2')\n",
    "lr.fit(X_train, y_train)\n",
    "\n",
    "lr_ypred_train = lr.predict(X_train)\n",
    "lr_ypred_test = lr.predict(X_test)\n",
    "lr_ypred = lr.predict(X_new)"
   ]
  },
  {
   "cell_type": "code",
   "execution_count": 58,
   "id": "ec135a38",
   "metadata": {},
   "outputs": [
    {
     "data": {
      "text/plain": [
       "0.6057149941114486"
      ]
     },
     "execution_count": 58,
     "metadata": {},
     "output_type": "execute_result"
    },
    {
     "data": {
      "image/png": "[encoded data removed]",
      "text/plain": [
       "<Figure size 640x480 with 1 Axes>"
      ]
     },
     "metadata": {},
     "output_type": "display_data"
    }
   ],
   "source": [
    "import matplotlib.pyplot as plt\n",
    "from sklearn.metrics import roc_curve, auc\n",
    "tpr, fpr, _ = roc_curve(y_train, lr.predict_proba(X_train)[:, 0])\n",
    "plt.plot(fpr, tpr)\n",
    "auc(fpr, tpr)"
   ]
  },
  {
   "cell_type": "code",
   "execution_count": 59,
   "id": "b2d42fad",
   "metadata": {},
   "outputs": [
    {
     "data": {
      "text/plain": [
       "0.5822222222222222"
      ]
     },
     "execution_count": 59,
     "metadata": {},
     "output_type": "execute_result"
    },
    {
     "data": {
      "image/png": "[encoded data removed]",
      "text/plain": [
       "<Figure size 640x480 with 1 Axes>"
      ]
     },
     "metadata": {},
     "output_type": "display_data"
    }
   ],
   "source": [
    "tpr, fpr, _ = roc_curve(y_test, lr.predict_proba(X_test)[:, 0])\n",
    "plt.plot(fpr, tpr)\n",
    "auc(fpr, tpr)"
   ]
  },
  {
   "cell_type": "code",
   "execution_count": 60,
   "id": "8df5cc92",
   "metadata": {},
   "outputs": [],
   "source": [
    "from sklearn.metrics import accuracy_score, f1_score, recall_score, precision_score"
   ]
  },
  {
   "cell_type": "code",
   "execution_count": 61,
   "id": "ef7df551",
   "metadata": {},
   "outputs": [
    {
     "data": {
      "text/plain": [
       "(0.7517006802721088, 0.7575757575757576)"
      ]
     },
     "execution_count": 61,
     "metadata": {},
     "output_type": "execute_result"
    }
   ],
   "source": [
    "accuracy_score(y_train,lr_ypred_train), accuracy_score(y_test,lr_ypred_test)"
   ]
  },
  {
   "cell_type": "code",
   "execution_count": 62,
   "id": "272c014b",
   "metadata": {},
   "outputs": [
    {
     "data": {
      "text/plain": [
       "(0.0, 0.0)"
      ]
     },
     "execution_count": 62,
     "metadata": {},
     "output_type": "execute_result"
    }
   ],
   "source": [
    "f1_score(y_train,lr_ypred_train), f1_score(y_test,lr_ypred_test)"
   ]
  },
  {
   "cell_type": "code",
   "execution_count": 63,
   "id": "c236e67b",
   "metadata": {
    "scrolled": true
   },
   "outputs": [
    {
     "data": {
      "image/png": "[encoded data removed]",
      "text/plain": [
       "<Figure size 640x480 with 2 Axes>"
      ]
     },
     "metadata": {},
     "output_type": "display_data"
    }
   ],
   "source": [
    "from sklearn.metrics import confusion_matrix\n",
    "import matplotlib.pyplot as plt\n",
    "import numpy\n",
    "from sklearn import metrics\n",
    "\n",
    "confusion_matrix = metrics.confusion_matrix(y, lr_ypred)\n",
    "cm_display = metrics.ConfusionMatrixDisplay(confusion_matrix = confusion_matrix, display_labels = [False, True])\n",
    "\n",
    "cm_display.plot(cmap = 'Blues')\n",
    "plt.show()"
   ]
  },
  {
   "cell_type": "markdown",
   "id": "10fd794f",
   "metadata": {},
   "source": [
    "#### Дерево решений"
   ]
  },
  {
   "cell_type": "code",
   "execution_count": 64,
   "id": "c2b7b9d8",
   "metadata": {},
   "outputs": [
    {
     "name": "stdout",
     "output_type": "stream",
     "text": [
      "[0.77852349 0.32653061]\n"
     ]
    }
   ],
   "source": [
    "tree1 = DecisionTreeClassifier(random_state=42)\n",
    "tree1.fit(X_train, y_train)\n",
    "\n",
    "pred_tree1 = tree1.predict(X_test)\n",
    "print(f1_score(y_test, pred_tree1, average=None))"
   ]
  },
  {
   "cell_type": "code",
   "execution_count": 65,
   "id": "6e31e454",
   "metadata": {},
   "outputs": [
    {
     "name": "stdout",
     "output_type": "stream",
     "text": [
      "Best params: {'criterion': 'gini', 'max_depth': 8, 'max_features': 'log2'}\n",
      "Best Score: 0.22632575757575757\n"
     ]
    }
   ],
   "source": [
    "params = {'max_features' : ['log2' , 'sqrt'],\n",
    "          'max_depth': np.arange(1,10),\n",
    "          'criterion': ['gini', 'entropy', 'log_loss']}\n",
    "\n",
    "tree_cv = GridSearchCV(tree1, params, cv = 3, scoring = 'recall')\n",
    "tree_cv.fit(X_new, y)\n",
    "\n",
    "print('Best params:', tree_cv.best_params_)\n",
    "print('Best Score:', tree_cv.best_score_)"
   ]
  },
  {
   "cell_type": "code",
   "execution_count": 66,
   "id": "5257ef7e",
   "metadata": {},
   "outputs": [],
   "source": [
    "tree = DecisionTreeClassifier(random_state = 42, criterion = 'gini', \n",
    "                              max_depth = 8, max_features = 'log2') \n",
    "\n",
    "tree.fit(X_train, y_train)\n",
    "\n",
    "tree_ypred_train = tree.predict(X_train)\n",
    "tree_ypred_test = tree.predict(X_test)\n",
    "tree_ypred = tree.predict(X_new)"
   ]
  },
  {
   "cell_type": "code",
   "execution_count": 67,
   "id": "ba35c99d",
   "metadata": {
    "scrolled": false
   },
   "outputs": [
    {
     "data": {
      "text/plain": [
       "0.9363106675757764"
      ]
     },
     "execution_count": 67,
     "metadata": {},
     "output_type": "execute_result"
    },
    {
     "data": {
      "image/png": "[encoded data removed]",
      "text/plain": [
       "<Figure size 640x480 with 1 Axes>"
      ]
     },
     "metadata": {},
     "output_type": "display_data"
    }
   ],
   "source": [
    "import matplotlib.pyplot as plt\n",
    "from sklearn.metrics import roc_curve, auc\n",
    "tpr, fpr, _ = roc_curve(y_train, tree.predict_proba(X_train)[:, 0])\n",
    "plt.plot(fpr, tpr)\n",
    "auc(fpr, tpr)"
   ]
  },
  {
   "cell_type": "code",
   "execution_count": 68,
   "id": "98dd5da2",
   "metadata": {},
   "outputs": [
    {
     "data": {
      "text/plain": [
       "0.5819444444444445"
      ]
     },
     "execution_count": 68,
     "metadata": {},
     "output_type": "execute_result"
    },
    {
     "data": {
      "image/png": "[encoded data removed]",
      "text/plain": [
       "<Figure size 640x480 with 1 Axes>"
      ]
     },
     "metadata": {},
     "output_type": "display_data"
    }
   ],
   "source": [
    "tpr, fpr, _ = roc_curve(y_test, tree.predict_proba(X_test)[:, 0])\n",
    "plt.plot(fpr, tpr)\n",
    "auc(fpr, tpr)"
   ]
  },
  {
   "cell_type": "code",
   "execution_count": 69,
   "id": "9ce18c4c",
   "metadata": {
    "scrolled": true
   },
   "outputs": [
    {
     "data": {
      "text/plain": [
       "(0.8741496598639455, 0.7272727272727273)"
      ]
     },
     "execution_count": 69,
     "metadata": {},
     "output_type": "execute_result"
    }
   ],
   "source": [
    "accuracy_score(y_train,tree_ypred_train), accuracy_score(y_test,tree_ypred_test)"
   ]
  },
  {
   "cell_type": "code",
   "execution_count": 70,
   "id": "3176d4b8",
   "metadata": {
    "scrolled": true
   },
   "outputs": [
    {
     "data": {
      "text/plain": [
       "(0.6725663716814159, 0.18181818181818182)"
      ]
     },
     "execution_count": 70,
     "metadata": {},
     "output_type": "execute_result"
    }
   ],
   "source": [
    "f1_score(y_train,tree_ypred_train), f1_score(y_test,tree_ypred_test)"
   ]
  },
  {
   "cell_type": "code",
   "execution_count": 71,
   "id": "d4af2fdc",
   "metadata": {},
   "outputs": [
    {
     "data": {
      "image/png": "[encoded data removed]",
      "text/plain": [
       "<Figure size 640x480 with 2 Axes>"
      ]
     },
     "metadata": {},
     "output_type": "display_data"
    }
   ],
   "source": [
    "from sklearn.metrics import confusion_matrix\n",
    "import matplotlib.pyplot as plt\n",
    "import numpy\n",
    "from sklearn import metrics\n",
    "\n",
    "confusion_matrix = metrics.confusion_matrix(y_test, tree_ypred_test)\n",
    "cm_display = metrics.ConfusionMatrixDisplay(confusion_matrix = confusion_matrix, display_labels = [False, True])\n",
    "\n",
    "cm_display.plot(cmap = 'Blues')\n",
    "plt.show()"
   ]
  },
  {
   "cell_type": "code",
   "execution_count": 72,
   "id": "ce362ec2",
   "metadata": {},
   "outputs": [
    {
     "data": {
      "image/png": "[encoded data removed]",
      "text/plain": [
       "<Figure size 640x480 with 2 Axes>"
      ]
     },
     "metadata": {},
     "output_type": "display_data"
    }
   ],
   "source": [
    "from sklearn.metrics import confusion_matrix\n",
    "import matplotlib.pyplot as plt\n",
    "import numpy\n",
    "from sklearn import metrics\n",
    "\n",
    "confusion_matrix = metrics.confusion_matrix(y, tree_ypred)\n",
    "cm_display = metrics.ConfusionMatrixDisplay(confusion_matrix = confusion_matrix, display_labels = [False, True])\n",
    "\n",
    "cm_display.plot(cmap = 'Blues')\n",
    "plt.show()"
   ]
  },
  {
   "cell_type": "markdown",
   "id": "9b11d8d0",
   "metadata": {},
   "source": [
    "### SGD"
   ]
  },
  {
   "cell_type": "code",
   "execution_count": 73,
   "id": "a3af5e36",
   "metadata": {
    "scrolled": false
   },
   "outputs": [
    {
     "name": "stdout",
     "output_type": "stream",
     "text": [
      "[0.81481481 0.16666667]\n"
     ]
    }
   ],
   "source": [
    "sgd1 = SGDClassifier(random_state = 42)\n",
    "sgd1.fit(X_train, y_train)\n",
    "\n",
    "pred_sgd1 = sgd1.predict(X_test)\n",
    "print(f1_score(y_test, pred_sgd1, average=None))"
   ]
  },
  {
   "cell_type": "code",
   "execution_count": 74,
   "id": "46e54dff",
   "metadata": {},
   "outputs": [
    {
     "name": "stdout",
     "output_type": "stream",
     "text": [
      "Best params: {'loss': 'modified_huber', 'penalty': 'elasticnet'}\n",
      "Best Score: 0.3178661616161616\n"
     ]
    }
   ],
   "source": [
    "params = {'loss' : ['modified_huber', 'log_loss'],\n",
    "          'penalty': ['l2', 'l1', 'elasticnet']}\n",
    "\n",
    "sgd_cv = GridSearchCV(sgd1, params, cv = 3, scoring = 'recall')\n",
    "sgd_cv.fit(X_new, y)\n",
    "\n",
    "print('Best params:', sgd_cv.best_params_)\n",
    "print('Best Score:', sgd_cv.best_score_)"
   ]
  },
  {
   "cell_type": "code",
   "execution_count": 75,
   "id": "ce0654e4",
   "metadata": {},
   "outputs": [],
   "source": [
    "sgd = SGDClassifier(random_state = 42, loss = 'modified_huber', penalty = 'l1') \n",
    "\n",
    "sgd.fit(X_train, y_train)\n",
    "\n",
    "sgd_ypred_train = sgd.predict(X_train)\n",
    "sgd_ypred_test = sgd.predict(X_test)\n",
    "sgd_ypred = sgd.predict(X_new)"
   ]
  },
  {
   "cell_type": "code",
   "execution_count": 76,
   "id": "2cfa532c",
   "metadata": {
    "scrolled": true
   },
   "outputs": [
    {
     "data": {
      "text/plain": [
       "0.575993305646811"
      ]
     },
     "execution_count": 76,
     "metadata": {},
     "output_type": "execute_result"
    },
    {
     "data": {
      "image/png": "[encoded data removed]",
      "text/plain": [
       "<Figure size 640x480 with 1 Axes>"
      ]
     },
     "metadata": {},
     "output_type": "display_data"
    }
   ],
   "source": [
    "import matplotlib.pyplot as plt\n",
    "from sklearn.metrics import roc_curve, auc\n",
    "tpr, fpr, _ = roc_curve(y_train, sgd.predict_proba(X_train)[:, 0])\n",
    "plt.plot(fpr, tpr)\n",
    "auc(fpr, tpr)"
   ]
  },
  {
   "cell_type": "code",
   "execution_count": 77,
   "id": "45c05d9f",
   "metadata": {
    "scrolled": false
   },
   "outputs": [
    {
     "data": {
      "text/plain": [
       "0.5261111111111112"
      ]
     },
     "execution_count": 77,
     "metadata": {},
     "output_type": "execute_result"
    },
    {
     "data": {
      "image/png": "[encoded data removed]",
      "text/plain": [
       "<Figure size 640x480 with 1 Axes>"
      ]
     },
     "metadata": {},
     "output_type": "display_data"
    }
   ],
   "source": [
    "tpr, fpr, _ = roc_curve(y_test, sgd.predict_proba(X_test)[:, 0])\n",
    "plt.plot(fpr, tpr)\n",
    "auc(fpr, tpr)"
   ]
  },
  {
   "cell_type": "code",
   "execution_count": 78,
   "id": "b539c8ed",
   "metadata": {
    "scrolled": true
   },
   "outputs": [
    {
     "data": {
      "text/plain": [
       "(0.7278911564625851, 0.6868686868686869)"
      ]
     },
     "execution_count": 78,
     "metadata": {},
     "output_type": "execute_result"
    }
   ],
   "source": [
    "accuracy_score(y_train,sgd_ypred_train), accuracy_score(y_test,sgd_ypred_test)"
   ]
  },
  {
   "cell_type": "code",
   "execution_count": 79,
   "id": "40065ac5",
   "metadata": {
    "scrolled": false
   },
   "outputs": [
    {
     "data": {
      "text/plain": [
       "(0.2982456140350877, 0.16216216216216217)"
      ]
     },
     "execution_count": 79,
     "metadata": {},
     "output_type": "execute_result"
    }
   ],
   "source": [
    "f1_score(y_train,sgd_ypred_train), f1_score(y_test,sgd_ypred_test)"
   ]
  },
  {
   "cell_type": "code",
   "execution_count": 80,
   "id": "bc6efe6d",
   "metadata": {},
   "outputs": [
    {
     "data": {
      "image/png": "[encoded data removed]",
      "text/plain": [
       "<Figure size 640x480 with 2 Axes>"
      ]
     },
     "metadata": {},
     "output_type": "display_data"
    }
   ],
   "source": [
    "from sklearn.metrics import confusion_matrix\n",
    "import matplotlib.pyplot as plt\n",
    "import numpy\n",
    "from sklearn import metrics\n",
    "\n",
    "confusion_matrix = metrics.confusion_matrix(y_test, sgd_ypred_test)\n",
    "cm_display = metrics.ConfusionMatrixDisplay(confusion_matrix = confusion_matrix, display_labels = [False, True])\n",
    "\n",
    "cm_display.plot(cmap = 'Blues')\n",
    "plt.show()"
   ]
  },
  {
   "cell_type": "code",
   "execution_count": 81,
   "id": "dc572fd1",
   "metadata": {
    "scrolled": true
   },
   "outputs": [
    {
     "data": {
      "image/png": "[encoded data removed]",
      "text/plain": [
       "<Figure size 640x480 with 2 Axes>"
      ]
     },
     "metadata": {},
     "output_type": "display_data"
    }
   ],
   "source": [
    "from sklearn.metrics import confusion_matrix\n",
    "import matplotlib.pyplot as plt\n",
    "import numpy\n",
    "from sklearn import metrics\n",
    "\n",
    "confusion_matrix = metrics.confusion_matrix(y, sgd_ypred)\n",
    "cm_display = metrics.ConfusionMatrixDisplay(confusion_matrix = confusion_matrix, display_labels = [False, True])\n",
    "\n",
    "cm_display.plot(cmap = 'Blues')\n",
    "plt.show()"
   ]
  },
  {
   "cell_type": "markdown",
   "id": "97c0f91d",
   "metadata": {},
   "source": [
    "### SVM"
   ]
  },
  {
   "cell_type": "code",
   "execution_count": 82,
   "id": "0c272dc7",
   "metadata": {
    "scrolled": false
   },
   "outputs": [
    {
     "name": "stdout",
     "output_type": "stream",
     "text": [
      "[0.86206897 0.        ]\n"
     ]
    }
   ],
   "source": [
    "svm1 = SVC(random_state = 42)\n",
    "\n",
    "svm1.fit(X_train, y_train)\n",
    "\n",
    "pred_svm1 = svm1.predict(X_test)\n",
    "print(f1_score(y_test, pred_svm1, average=None))"
   ]
  },
  {
   "cell_type": "code",
   "execution_count": 83,
   "id": "3f1819f1",
   "metadata": {},
   "outputs": [
    {
     "name": "stdout",
     "output_type": "stream",
     "text": [
      "Best params: {'C': 47, 'kernel': 'sigmoid'}\n",
      "Best Score: 0.3096590909090909\n"
     ]
    }
   ],
   "source": [
    "params = {'C': np.arange(1,80,1),\n",
    "          'kernel': ['linear', 'poly', 'rbf', 'sigmoid']}\n",
    "\n",
    "svm_cv = GridSearchCV(svm1, params, cv = 3, scoring = 'recall')\n",
    "svm_cv.fit(X_new, y)\n",
    "\n",
    "print('Best params:', svm_cv.best_params_)\n",
    "print('Best Score:', svm_cv.best_score_)"
   ]
  },
  {
   "cell_type": "code",
   "execution_count": 84,
   "id": "0742e031",
   "metadata": {},
   "outputs": [],
   "source": [
    "svm = SVC(random_state = 42, C = 10, kernel = 'sigmoid', probability = True) \n",
    "\n",
    "svm.fit(X_train, y_train)\n",
    "\n",
    "svm_ypred_train = svm.predict(X_train)\n",
    "svm_ypred_test = svm.predict(X_test)\n",
    "svm_ypred = svm.predict(X_new)"
   ]
  },
  {
   "cell_type": "code",
   "execution_count": 85,
   "id": "2b947525",
   "metadata": {
    "scrolled": true
   },
   "outputs": [
    {
     "data": {
      "text/plain": [
       "0.5576148267526189"
      ]
     },
     "execution_count": 85,
     "metadata": {},
     "output_type": "execute_result"
    },
    {
     "data": {
      "image/png": "[encoded data removed]",
      "text/plain": [
       "<Figure size 640x480 with 1 Axes>"
      ]
     },
     "metadata": {},
     "output_type": "display_data"
    }
   ],
   "source": [
    "import matplotlib.pyplot as plt\n",
    "from sklearn.metrics import roc_curve, auc\n",
    "tpr, fpr, _ = roc_curve(y_train, svm.predict_proba(X_train)[:, 0])\n",
    "plt.plot(fpr, tpr)\n",
    "auc(fpr, tpr)"
   ]
  },
  {
   "cell_type": "code",
   "execution_count": 86,
   "id": "a09006f4",
   "metadata": {
    "scrolled": true
   },
   "outputs": [
    {
     "data": {
      "text/plain": [
       "0.4277777777777778"
      ]
     },
     "execution_count": 86,
     "metadata": {},
     "output_type": "execute_result"
    },
    {
     "data": {
      "image/png": "[encoded data removed]",
      "text/plain": [
       "<Figure size 640x480 with 1 Axes>"
      ]
     },
     "metadata": {},
     "output_type": "display_data"
    }
   ],
   "source": [
    "tpr, fpr, _ = roc_curve(y_test, svm.predict_proba(X_test)[:, 0])\n",
    "plt.plot(fpr, tpr)\n",
    "auc(fpr, tpr)"
   ]
  },
  {
   "cell_type": "code",
   "execution_count": 87,
   "id": "c64ba9ad",
   "metadata": {
    "scrolled": false
   },
   "outputs": [
    {
     "data": {
      "text/plain": [
       "(0.6190476190476191, 0.6666666666666666)"
      ]
     },
     "execution_count": 87,
     "metadata": {},
     "output_type": "execute_result"
    }
   ],
   "source": [
    "accuracy_score(y_train,svm_ypred_train), accuracy_score(y_test,svm_ypred_test)"
   ]
  },
  {
   "cell_type": "code",
   "execution_count": 88,
   "id": "ed490bba",
   "metadata": {
    "scrolled": false
   },
   "outputs": [
    {
     "data": {
      "text/plain": [
       "(0.2222222222222222, 0.26666666666666666)"
      ]
     },
     "execution_count": 88,
     "metadata": {},
     "output_type": "execute_result"
    }
   ],
   "source": [
    "f1_score(y_train,svm_ypred_train), f1_score(y_test,svm_ypred_test)"
   ]
  },
  {
   "cell_type": "code",
   "execution_count": 89,
   "id": "6ce9a4f6",
   "metadata": {},
   "outputs": [
    {
     "data": {
      "image/png": "[encoded data removed]",
      "text/plain": [
       "<Figure size 640x480 with 2 Axes>"
      ]
     },
     "metadata": {},
     "output_type": "display_data"
    }
   ],
   "source": [
    "from sklearn.metrics import confusion_matrix\n",
    "import matplotlib.pyplot as plt\n",
    "import numpy\n",
    "from sklearn import metrics\n",
    "\n",
    "confusion_matrix = metrics.confusion_matrix(y_test, svm_ypred_test)\n",
    "cm_display = metrics.ConfusionMatrixDisplay(confusion_matrix = confusion_matrix, display_labels = [False, True])\n",
    "\n",
    "cm_display.plot(cmap = 'Blues')\n",
    "plt.show()"
   ]
  },
  {
   "cell_type": "code",
   "execution_count": 90,
   "id": "5ebca8f1",
   "metadata": {
    "scrolled": false
   },
   "outputs": [
    {
     "data": {
      "image/png": "[encoded data removed]",
      "text/plain": [
       "<Figure size 640x480 with 2 Axes>"
      ]
     },
     "metadata": {},
     "output_type": "display_data"
    }
   ],
   "source": [
    "from sklearn.metrics import confusion_matrix\n",
    "import matplotlib.pyplot as plt\n",
    "import numpy\n",
    "from sklearn import metrics\n",
    "\n",
    "confusion_matrix = metrics.confusion_matrix(y, svm_ypred)\n",
    "cm_display = metrics.ConfusionMatrixDisplay(confusion_matrix = confusion_matrix, display_labels = [False, True])\n",
    "\n",
    "cm_display.plot(cmap = 'Blues')\n",
    "plt.show()"
   ]
  },
  {
   "cell_type": "markdown",
   "id": "a7a20d57",
   "metadata": {},
   "source": [
    "### Gradient boosting"
   ]
  },
  {
   "cell_type": "code",
   "execution_count": 91,
   "id": "79ea99f3",
   "metadata": {
    "scrolled": false
   },
   "outputs": [
    {
     "name": "stdout",
     "output_type": "stream",
     "text": [
      "[0.85207101 0.13793103]\n"
     ]
    }
   ],
   "source": [
    "boost1 = GradientBoostingClassifier(random_state = 42)\n",
    "\n",
    "boost1.fit(X_train, y_train)\n",
    "\n",
    "pred_boost1 = boost1.predict(X_test)\n",
    "print(f1_score(y_test, pred_boost1, average=None))"
   ]
  },
  {
   "cell_type": "code",
   "execution_count": 92,
   "id": "5cc791b0",
   "metadata": {},
   "outputs": [
    {
     "name": "stdout",
     "output_type": "stream",
     "text": [
      "Best params: {'n_estimators': 64}\n",
      "Best Score: 0.1534090909090909\n"
     ]
    }
   ],
   "source": [
    "params = {'n_estimators': np.arange(0,80,1)}\n",
    "\n",
    "boost_cv = GridSearchCV(boost1, params, cv = 3, scoring = 'recall')\n",
    "boost_cv.fit(X_new, y)\n",
    "\n",
    "print('Best params:', boost_cv.best_params_)\n",
    "print('Best Score:', boost_cv.best_score_)"
   ]
  },
  {
   "cell_type": "code",
   "execution_count": 93,
   "id": "72efc907",
   "metadata": {},
   "outputs": [
    {
     "name": "stdout",
     "output_type": "stream",
     "text": [
      "Best params: {'criterion': 'friedman_mse', 'max_features': 'log2'}\n",
      "Best Score: 0.13352272727272727\n"
     ]
    }
   ],
   "source": [
    "params = {'max_features' : ['log2', 'sqrt'],\n",
    "          'criterion': ['friedman_mse', 'squared_error', 'mse']}\n",
    "\n",
    "boost01 = GradientBoostingClassifier(n_estimators = 52)\n",
    "\n",
    "boost1_cv = GridSearchCV(boost01, params, cv = 3, scoring = 'recall')\n",
    "boost1_cv.fit(X_new, y)\n",
    "\n",
    "print('Best params:', boost1_cv.best_params_)\n",
    "print('Best Score:', boost1_cv.best_score_)"
   ]
  },
  {
   "cell_type": "code",
   "execution_count": 94,
   "id": "23ee72af",
   "metadata": {},
   "outputs": [],
   "source": [
    "boost = GradientBoostingClassifier(n_estimators = 52, criterion = 'squared_error', max_features = 'log2')\n",
    "\n",
    "boost.fit(X_train, y_train)\n",
    "\n",
    "boost_ypred_train = boost.predict(X_train)\n",
    "boost_ypred_test = boost.predict(X_test)\n",
    "boost_ypred = boost.predict(X_new)"
   ]
  },
  {
   "cell_type": "code",
   "execution_count": 95,
   "id": "954475ae",
   "metadata": {
    "scrolled": true
   },
   "outputs": [
    {
     "data": {
      "text/plain": [
       "0.9727267092295295"
      ]
     },
     "execution_count": 95,
     "metadata": {},
     "output_type": "execute_result"
    },
    {
     "data": {
      "image/png": "[encoded data removed]",
      "text/plain": [
       "<Figure size 640x480 with 1 Axes>"
      ]
     },
     "metadata": {},
     "output_type": "display_data"
    }
   ],
   "source": [
    "import matplotlib.pyplot as plt\n",
    "from sklearn.metrics import roc_curve, auc\n",
    "tpr, fpr, _ = roc_curve(y_train, boost.predict_proba(X_train)[:, 0])\n",
    "plt.plot(fpr, tpr)\n",
    "auc(fpr, tpr)"
   ]
  },
  {
   "cell_type": "code",
   "execution_count": 96,
   "id": "6f3965bb",
   "metadata": {
    "scrolled": true
   },
   "outputs": [
    {
     "data": {
      "text/plain": [
       "0.5033333333333334"
      ]
     },
     "execution_count": 96,
     "metadata": {},
     "output_type": "execute_result"
    },
    {
     "data": {
      "image/png": "[encoded data removed]",
      "text/plain": [
       "<Figure size 640x480 with 1 Axes>"
      ]
     },
     "metadata": {},
     "output_type": "display_data"
    }
   ],
   "source": [
    "tpr, fpr, _ = roc_curve(y_test, boost.predict_proba(X_test)[:, 0])\n",
    "plt.plot(fpr, tpr)\n",
    "auc(fpr, tpr)"
   ]
  },
  {
   "cell_type": "code",
   "execution_count": 97,
   "id": "c300e9ad",
   "metadata": {
    "scrolled": false
   },
   "outputs": [
    {
     "data": {
      "text/plain": [
       "(0.8843537414965986, 0.7272727272727273)"
      ]
     },
     "execution_count": 97,
     "metadata": {},
     "output_type": "execute_result"
    }
   ],
   "source": [
    "accuracy_score(y_train,boost_ypred_train), accuracy_score(y_test,boost_ypred_test)"
   ]
  },
  {
   "cell_type": "code",
   "execution_count": 98,
   "id": "3e606d09",
   "metadata": {
    "scrolled": false
   },
   "outputs": [
    {
     "data": {
      "text/plain": [
       "(0.6964285714285715, 0.06896551724137931)"
      ]
     },
     "execution_count": 98,
     "metadata": {},
     "output_type": "execute_result"
    }
   ],
   "source": [
    "f1_score(y_train,boost_ypred_train), f1_score(y_test,boost_ypred_test)"
   ]
  },
  {
   "cell_type": "code",
   "execution_count": 99,
   "id": "f825a249",
   "metadata": {},
   "outputs": [
    {
     "data": {
      "image/png": "[encoded data removed]",
      "text/plain": [
       "<Figure size 640x480 with 2 Axes>"
      ]
     },
     "metadata": {},
     "output_type": "display_data"
    }
   ],
   "source": [
    "from sklearn.metrics import confusion_matrix\n",
    "import matplotlib.pyplot as plt\n",
    "import numpy\n",
    "from sklearn import metrics\n",
    "\n",
    "confusion_matrix = metrics.confusion_matrix(y_test, boost_ypred_test)\n",
    "cm_display = metrics.ConfusionMatrixDisplay(confusion_matrix = confusion_matrix, display_labels = [False, True])\n",
    "\n",
    "cm_display.plot(cmap = 'Blues')\n",
    "plt.show()"
   ]
  },
  {
   "cell_type": "code",
   "execution_count": 100,
   "id": "66365f95",
   "metadata": {
    "scrolled": true
   },
   "outputs": [
    {
     "data": {
      "image/png": "[encoded data removed]",
      "text/plain": [
       "<Figure size 640x480 with 2 Axes>"
      ]
     },
     "metadata": {},
     "output_type": "display_data"
    }
   ],
   "source": [
    "from sklearn.metrics import confusion_matrix\n",
    "import matplotlib.pyplot as plt\n",
    "import numpy\n",
    "from sklearn import metrics\n",
    "\n",
    "confusion_matrix = metrics.confusion_matrix(y, boost_ypred)\n",
    "cm_display = metrics.ConfusionMatrixDisplay(confusion_matrix = confusion_matrix, display_labels = [False, True])\n",
    "\n",
    "cm_display.plot(cmap = 'Blues')\n",
    "plt.show()"
   ]
  },
  {
   "cell_type": "markdown",
   "id": "8f8e62cb",
   "metadata": {},
   "source": [
    "### Выбор оптимальной модели"
   ]
  },
  {
   "cell_type": "code",
   "execution_count": 101,
   "id": "40c262d9",
   "metadata": {},
   "outputs": [
    {
     "data": {
      "image/png": "[encoded data removed]",
      "text/plain": [
       "<Figure size 640x480 with 1 Axes>"
      ]
     },
     "metadata": {},
     "output_type": "display_data"
    }
   ],
   "source": [
    "from sklearn.model_selection import cross_validate\n",
    "\n",
    "#1\n",
    "cv_log_best = cross_validate(lr, X, y, cv = 3, scoring = 'recall')\n",
    "\n",
    "#2\n",
    "cv_tree_best = cross_validate(tree, X, y, cv = 3, scoring = 'recall')\n",
    "\n",
    "#3\n",
    "cv_sgd_best = cross_validate(sgd, X, y, cv = 3, scoring = 'recall')\n",
    "\n",
    "#4\n",
    "cv_svm_best = cross_validate(svm, X, y, cv = 3, scoring = 'recall')\n",
    "\n",
    "#5\n",
    "cv_boost_best = cross_validate(boost, X, y, cv = 3, scoring = 'recall')\n",
    "\n",
    "data = [cv_log_best['test_score'], cv_tree_best['test_score'], cv_sgd_best['test_score'], \n",
    "        cv_svm_best['test_score'], cv_boost_best['test_score']]\n",
    "plt.boxplot(data)\n",
    "plt.xlabel(\"Model\")\n",
    "plt.ylabel(\"recall\")\n",
    "plt.show()"
   ]
  },
  {
   "cell_type": "code",
   "execution_count": 102,
   "id": "b3cd25ba",
   "metadata": {},
   "outputs": [
    {
     "data": {
      "text/plain": [
       "[0.7531806615776082,\n",
       " 0.6488549618320612,\n",
       " 0.5826972010178118,\n",
       " 0.6005089058524172,\n",
       " 0.732824427480916]"
      ]
     },
     "execution_count": 102,
     "metadata": {},
     "output_type": "execute_result"
    }
   ],
   "source": [
    "precisions, recalls, f1scores, accuracys, rocaucs = [], [], [], [], []\n",
    "\n",
    "def data(score):\n",
    "    cv_log_best = cross_validate(lr, X, y, cv = 3, scoring = score)\n",
    "    cv_tree_best = cross_validate(tree, X, y, cv = 3, scoring = score)\n",
    "    cv_sgd_best = cross_validate(sgd, X, y, cv = 3, scoring = score)\n",
    "    cv_svm_best = cross_validate(svm, X, y, cv = 3, scoring = score)\n",
    "    cv_boost_best = cross_validate(boost, X, y, cv = 3, scoring = score)\n",
    "    return [cv_log_best['test_score'], cv_tree_best['test_score'], cv_sgd_best['test_score'], \n",
    "            cv_svm_best['test_score'], cv_boost_best['test_score']]\n",
    "\n",
    "def average(data, frame):\n",
    "    for i in data:\n",
    "        average = 0\n",
    "        for j in i:\n",
    "            average += j\n",
    "        average = average / 3\n",
    "        frame.append(average)\n",
    "    return frame\n",
    "\n",
    "average(data('precision'), precisions)\n",
    "average(data('recall'), recalls)\n",
    "average(data('roc_auc'), rocaucs)\n",
    "average(data('f1'), f1scores)\n",
    "average(data('accuracy'), accuracys)"
   ]
  },
  {
   "cell_type": "code",
   "execution_count": 103,
   "id": "2ebc76c3",
   "metadata": {},
   "outputs": [
    {
     "data": {
      "text/html": [
       "<div>\n",
       "<style scoped>\n",
       "    .dataframe tbody tr th:only-of-type {\n",
       "        vertical-align: middle;\n",
       "    }\n",
       "\n",
       "    .dataframe tbody tr th {\n",
       "        vertical-align: top;\n",
       "    }\n",
       "\n",
       "    .dataframe thead th {\n",
       "        text-align: right;\n",
       "    }\n",
       "</style>\n",
       "<table border=\"1\" class=\"dataframe\">\n",
       "  <thead>\n",
       "    <tr style=\"text-align: right;\">\n",
       "      <th></th>\n",
       "      <th>f1_score</th>\n",
       "      <th>precision</th>\n",
       "      <th>recall</th>\n",
       "      <th>ROC AUC</th>\n",
       "      <th>accuracy</th>\n",
       "    </tr>\n",
       "  </thead>\n",
       "  <tbody>\n",
       "    <tr>\n",
       "      <th>lr</th>\n",
       "      <td>0.000000</td>\n",
       "      <td>0.000000</td>\n",
       "      <td>0.000000</td>\n",
       "      <td>0.542665</td>\n",
       "      <td>0.753181</td>\n",
       "    </tr>\n",
       "    <tr>\n",
       "      <th>tree</th>\n",
       "      <td>0.262789</td>\n",
       "      <td>0.269125</td>\n",
       "      <td>0.257891</td>\n",
       "      <td>0.505276</td>\n",
       "      <td>0.648855</td>\n",
       "    </tr>\n",
       "    <tr>\n",
       "      <th>sgd</th>\n",
       "      <td>0.130879</td>\n",
       "      <td>0.081425</td>\n",
       "      <td>0.333333</td>\n",
       "      <td>0.526253</td>\n",
       "      <td>0.582697</td>\n",
       "    </tr>\n",
       "    <tr>\n",
       "      <th>svm</th>\n",
       "      <td>0.160572</td>\n",
       "      <td>0.167026</td>\n",
       "      <td>0.154672</td>\n",
       "      <td>0.486976</td>\n",
       "      <td>0.600509</td>\n",
       "    </tr>\n",
       "    <tr>\n",
       "      <th>boost</th>\n",
       "      <td>0.123077</td>\n",
       "      <td>0.268687</td>\n",
       "      <td>0.092803</td>\n",
       "      <td>0.567147</td>\n",
       "      <td>0.732824</td>\n",
       "    </tr>\n",
       "  </tbody>\n",
       "</table>\n",
       "</div>"
      ],
      "text/plain": [
       "       f1_score  precision    recall   ROC AUC  accuracy\n",
       "lr     0.000000   0.000000  0.000000  0.542665  0.753181\n",
       "tree   0.262789   0.269125  0.257891  0.505276  0.648855\n",
       "sgd    0.130879   0.081425  0.333333  0.526253  0.582697\n",
       "svm    0.160572   0.167026  0.154672  0.486976  0.600509\n",
       "boost  0.123077   0.268687  0.092803  0.567147  0.732824"
      ]
     },
     "execution_count": 103,
     "metadata": {},
     "output_type": "execute_result"
    }
   ],
   "source": [
    "model = ['lr', 'tree', 'sgd', 'svm', 'boost']\n",
    "metrics_cv = pd.DataFrame({'f1_score': f1scores, 'precision': precisions, 'recall': recalls, 'ROC AUC': rocaucs, \n",
    "                        'accuracy': accuracys}, index=model)\n",
    "metrics_cv"
   ]
  },
  {
   "cell_type": "code",
   "execution_count": 104,
   "id": "8f9dfb92",
   "metadata": {},
   "outputs": [
    {
     "name": "stdout",
     "output_type": "stream",
     "text": [
      "f1_score     0.262789\n",
      "precision    0.269125\n",
      "recall       0.333333\n",
      "ROC AUC      0.567147\n",
      "accuracy     0.753181\n",
      "dtype: float64\n"
     ]
    }
   ],
   "source": [
    "print(metrics_cv.max())"
   ]
  },
  {
   "cell_type": "code",
   "execution_count": null,
   "id": "909ff32a",
   "metadata": {},
   "outputs": [],
   "source": []
  }
 ],
 "metadata": {
  "kernelspec": {
   "display_name": "Python 3 (ipykernel)",
   "language": "python",
   "name": "python3"
  },
  "language_info": {
   "codemirror_mode": {
    "name": "ipython",
    "version": 3
   },
   "file_extension": ".py",
   "mimetype": "text/x-python",
   "name": "python",
   "nbconvert_exporter": "python",
   "pygments_lexer": "ipython3",
   "version": "3.9.17"
  }
 },
 "nbformat": 4,
 "nbformat_minor": 5
}
